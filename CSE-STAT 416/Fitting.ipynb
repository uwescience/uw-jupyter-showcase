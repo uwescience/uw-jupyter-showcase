{
 "cells": [
  {
   "cell_type": "markdown",
   "metadata": {
    "id": "H05mx7y3YfaT"
   },
   "source": [
    "First we write some starter code to generate data"
   ]
  },
  {
   "cell_type": "code",
   "execution_count": 2,
   "metadata": {
    "id": "qwBeTYMzkCvL"
   },
   "outputs": [],
   "source": [
    "import numpy as np\n",
    "import matplotlib.pyplot as plt\n",
    "\n",
    "import matplotlib\n",
    "font = {'size': 18}\n",
    "matplotlib.rc('font', **font)\n",
    "\n",
    "%matplotlib inline"
   ]
  },
  {
   "cell_type": "code",
   "execution_count": 3,
   "metadata": {
    "id": "jJwgu873kGoK"
   },
   "outputs": [],
   "source": [
    "# Define the true function f\n",
    "def f(x):\n",
    "    return 100 * (x - 0.5) ** 3 - 10 * x + 2 * x + 2 * 6.25"
   ]
  },
  {
   "cell_type": "code",
   "execution_count": 4,
   "metadata": {
    "id": "wOwCmVkwkPtB"
   },
   "outputs": [],
   "source": [
    "# Generate a list of x's so we can properly draw the model\n",
    "xs = np.linspace(0, 1, 1000).reshape((1000, 1))"
   ]
  },
  {
   "cell_type": "code",
   "execution_count": 5,
   "metadata": {
    "colab": {
     "base_uri": "https://localhost:8080/",
     "height": 282
    },
    "id": "_nVarNcYkURo",
    "outputId": "2e0ed921-f412-4440-a500-d40a68a83296"
   },
   "outputs": [
    {
     "data": {
      "text/plain": [
       "[<matplotlib.lines.Line2D at 0x7f0daf415700>]"
      ]
     },
     "execution_count": 5,
     "metadata": {},
     "output_type": "execute_result"
    },
    {
     "data": {
      "image/png": "[encoded data removed]",
      "text/plain": [
       "<Figure size 432x288 with 1 Axes>"
      ]
     },
     "metadata": {
      "needs_background": "light"
     },
     "output_type": "display_data"
    }
   ],
   "source": [
    "plt.plot(xs, f(xs))"
   ]
  },
  {
   "cell_type": "code",
   "execution_count": 6,
   "metadata": {
    "colab": {
     "base_uri": "https://localhost:8080/"
    },
    "id": "ivlT7m9NkVbv",
    "outputId": "aadc67d7-a93c-4710-eca0-2b355d3d019d"
   },
   "outputs": [
    {
     "data": {
      "text/plain": [
       "array([[0.96743095],\n",
       "       [0.47912847],\n",
       "       [0.02379608],\n",
       "       [0.42769148],\n",
       "       [0.91669042],\n",
       "       [0.40320116],\n",
       "       [0.1270046 ],\n",
       "       [0.82180328],\n",
       "       [0.51829916],\n",
       "       [0.46049639],\n",
       "       [0.10105563],\n",
       "       [0.02822755],\n",
       "       [0.56449953],\n",
       "       [0.91477021],\n",
       "       [0.29159442],\n",
       "       [0.71900778],\n",
       "       [0.28545475],\n",
       "       [0.90117543],\n",
       "       [0.60099308],\n",
       "       [0.27489496]])"
      ]
     },
     "execution_count": 6,
     "metadata": {},
     "output_type": "execute_result"
    }
   ],
   "source": [
    "# Generate 20 random data points\n",
    "X = np.random.uniform(0 , 1, 20).reshape((20, 1))\n",
    "X"
   ]
  },
  {
   "cell_type": "code",
   "execution_count": 7,
   "metadata": {
    "id": "7zKp1VN0lAAA"
   },
   "outputs": [],
   "source": [
    "# Generate 20 noisy targets for training data\n",
    "y = f(X) + np.random.normal(0, 1, (20, 1))"
   ]
  },
  {
   "cell_type": "code",
   "execution_count": 8,
   "metadata": {
    "colab": {
     "base_uri": "https://localhost:8080/",
     "height": 282
    },
    "id": "g7yGE-JplHQu",
    "outputId": "be51725a-5db6-427b-d810-5672e74c740c"
   },
   "outputs": [
    {
     "data": {
      "text/plain": [
       "<matplotlib.collections.PathCollection at 0x7f0dad319f10>"
      ]
     },
     "execution_count": 8,
     "metadata": {},
     "output_type": "execute_result"
    },
    {
     "data": {
      "image/png": "[encoded data removed]",
      "text/plain": [
       "<Figure size 432x288 with 1 Axes>"
      ]
     },
     "metadata": {
      "needs_background": "light"
     },
     "output_type": "display_data"
    }
   ],
   "source": [
    "# Plot them together\n",
    "plt.plot(xs, f(xs), color='green')\n",
    "plt.scatter(X, y, color='black')"
   ]
  },
  {
   "cell_type": "markdown",
   "metadata": {
    "id": "pcY02kcUYfan"
   },
   "source": [
    "# Demo 1: Overfitting\n",
    "This demo shows how the degree polynomial fit can cause overfitting for a fixed sized dataset"
   ]
  },
  {
   "cell_type": "code",
   "execution_count": 9,
   "metadata": {
    "id": "i-Ect9ttlMEi"
   },
   "outputs": [],
   "source": [
    "from sklearn.preprocessing import PolynomialFeatures\n",
    "from sklearn.linear_model import LinearRegression\n",
    "\n",
    "def poly_model(degree, X, y, xs):\n",
    "    # Generate polynomial features of degree p\n",
    "    poly = PolynomialFeatures(degree)\n",
    "    X_poly = poly.fit_transform(X)\n",
    "    xs_poly = poly.transform(xs)\n",
    "\n",
    "    # Train the model and make predictions along all xs\n",
    "    model = LinearRegression()\n",
    "    model.fit(X_poly, y)\n",
    "    predictions = model.predict(xs_poly)\n",
    "\n",
    "    # Plot the prediction results\n",
    "    plt.scatter(X, y, label='Data', c='black')\n",
    "    plt.plot(xs, predictions, label='Predicted f')\n",
    "\n",
    "    # Customize plot for readability\n",
    "    plt.title(f'Degree {degree}')\n",
    "    plt.xlabel('x')\n",
    "    plt.ylabel('y')\n",
    "    plt.legend(bbox_to_anchor=(1.04,1), loc=\"upper left\")  # Legend outside plot\n",
    "    plt.xlim(0, 1)\n",
    "    plt.ylim(0, y.max() + 1)\n",
    "\n",
    "    plt.show()"
   ]
  },
  {
   "cell_type": "code",
   "execution_count": 10,
   "metadata": {
    "colab": {
     "base_uri": "https://localhost:8080/",
     "height": 399,
     "referenced_widgets": [
      "21f6d2d411b6410784773a8927562d5d",
      "ffeccc5072064a27b6ecfd6cde450d06",
      "4edb3f34fce9479387c98f4aabe099db",
      "8c109f14c285401b94827e8fc82b944f",
      "ed6219d34c4341c3865f97f96b535e75",
      "0cb7fa3582dd4725b5026f069148cf1c",
      "18a1b55502af469282adb1419305a4ae"
     ]
    },
    "id": "0Y0KsGhLYfaq",
    "outputId": "f5d872fe-4983-4e51-b396-e842acef8955"
   },
   "outputs": [
    {
     "data": {
      "application/vnd.jupyter.widget-view+json": {
       "model_id": "3432784f5bbc4b00aefb3f84c72995a6",
       "version_major": 2,
       "version_minor": 0
      },
      "text/plain": [
       "interactive(children=(IntSlider(value=0, description='degree', max=30), Output(layout=Layout(height='350px')))…"
      ]
     },
     "metadata": {},
     "output_type": "display_data"
    }
   ],
   "source": [
    "# Code to create the interactive widget\n",
    "from ipywidgets import fixed, interactive, IntSlider, widget, widgets\n",
    "\n",
    "interactive_plot = interactive(poly_model, \n",
    "                               degree=IntSlider(min=0, max=30),\n",
    "                               X=fixed(X),\n",
    "                               y=fixed(y),\n",
    "                               xs=fixed(xs))\n",
    "\n",
    "output = interactive_plot.children[-1]\n",
    "output.layout.height = '350px'\n",
    "interactive_plot"
   ]
  },
  {
   "cell_type": "markdown",
   "metadata": {
    "id": "gLBvX9z8Yfat"
   },
   "source": [
    "# Demo 2: Overfitting Coefficients\n",
    "This demo shows how the magnitude of the coefficients changes as we increase the degree of the polynomial. \n",
    "Notice that the y-scale is long so the biggest values are on the order of $10^{14}$!"
   ]
  },
  {
   "cell_type": "code",
   "execution_count": 11,
   "metadata": {
    "colab": {
     "base_uri": "https://localhost:8080/",
     "height": 295
    },
    "id": "DIwki062lTCN",
    "outputId": "930d60c6-9f95-4cad-fd62-04533f729ac6"
   },
   "outputs": [
    {
     "data": {
      "image/png": "[encoded data removed]",
      "text/plain": [
       "<Figure size 432x288 with 1 Axes>"
      ]
     },
     "metadata": {
      "needs_background": "light"
     },
     "output_type": "display_data"
    }
   ],
   "source": [
    "degrees = list(range(1, 31))\n",
    "largest_coeffs = []\n",
    "\n",
    "for p in degrees:  \n",
    "    # Generate data with polynomial features of degree p\n",
    "    poly = PolynomialFeatures(p)\n",
    "    X_poly = poly.fit_transform(X)\n",
    "    xs_poly = poly.transform(xs)\n",
    "\n",
    "    # Train the model \n",
    "    model = LinearRegression()\n",
    "    model.fit(X_poly, y)\n",
    "    \n",
    "    # Find largest coefficient\n",
    "    coeff = np.abs(model.coef_).max()\n",
    "    largest_coeffs.append(coeff)\n",
    "    \n",
    "# Plot the coefficients\n",
    "plt.plot(degrees, largest_coeffs)\n",
    "plt.title('Overfitting -> Large Coefficients')\n",
    "plt.xlabel('Degree')\n",
    "plt.ylabel('Magnitude of Largest Coefficient')\n",
    "plt.yscale('log')"
   ]
  },
  {
   "cell_type": "markdown",
   "metadata": {
    "id": "7pS6TI26Yfaw"
   },
   "source": [
    "# Demo 3: Size of Dataset\n",
    "This demo shows hwo the number of datapoints matter for overfitting. If we use a high degree polynomial and a small dataset, its more likely to overfit. If we use the same degree polynomial but on a larger dataset, it is harder to overfit"
   ]
  },
  {
   "cell_type": "code",
   "execution_count": 12,
   "metadata": {
    "colab": {
     "base_uri": "https://localhost:8080/",
     "height": 573
    },
    "id": "N-ToLwHttm3f",
    "outputId": "8f3bf2c8-e4eb-4c59-db9a-56cbb4779aaf"
   },
   "outputs": [
    {
     "data": {
      "image/png": "[encoded data removed]",
      "text/plain": [
       "<Figure size 432x288 with 1 Axes>"
      ]
     },
     "metadata": {
      "needs_background": "light"
     },
     "output_type": "display_data"
    },
    {
     "data": {
      "image/png": "[encoded data removed]",
      "text/plain": [
       "<Figure size 432x288 with 1 Axes>"
      ]
     },
     "metadata": {
      "needs_background": "light"
     },
     "output_type": "display_data"
    }
   ],
   "source": [
    "# Generate 100 random data points\n",
    "X_100 = np.random.uniform(0 , 1, 100).reshape((100, 1))\n",
    "y_100 = f(X_100) + np.random.normal(0, 0.5, (100, 1))\n",
    "\n",
    "# Train a 14 degree polynomial on 15 points\n",
    "poly_model(14, X_100[:15], y_100[:15], xs)\n",
    "# Train a 14 degree polynomial on 100 points\n",
    "poly_model(14, X_100, y_100, xs)"
   ]
  },
  {
   "cell_type": "markdown",
   "metadata": {
    "id": "WGRWxMbqYfa0"
   },
   "source": [
    "# Demo 5: Ridge Regression\n",
    "This demo shows how the penalty for $\\lambda$ affects the resulting function"
   ]
  },
  {
   "cell_type": "code",
   "execution_count": 13,
   "metadata": {
    "id": "g-wG6OPiYfa1"
   },
   "outputs": [],
   "source": [
    "# Simple code to train a Ridge model\n",
    "from sklearn.linear_model import Ridge\n",
    "model = Ridge(alpha=1.5)"
   ]
  },
  {
   "cell_type": "code",
   "execution_count": 14,
   "metadata": {
    "id": "dqOVqA6XYfa3"
   },
   "outputs": [],
   "source": [
    "# Define the function for plotting\n",
    "def poly_model_ridge(lam, degree, X, y, xs, ):\n",
    "    # Generate polynomial features of degree p\n",
    "    poly = PolynomialFeatures(degree)\n",
    "    X_poly = poly.fit_transform(X)\n",
    "    xs_poly = poly.transform(xs)\n",
    "\n",
    "    # Train the model and make predictions along all xs\n",
    "    model = Ridge(alpha=lam)\n",
    "    model.fit(X_poly, y)\n",
    "    predictions = model.predict(xs_poly)\n",
    "\n",
    "    # Plot the prediction results\n",
    "    plt.scatter(X, y, label='Data', c='black')\n",
    "    plt.plot(xs, predictions, label='Predicted f')\n",
    "\n",
    "    # Customize plot for readability\n",
    "    plt.title(f'Lambda {lam:0.2e}')\n",
    "    plt.xlabel('x')\n",
    "    plt.ylabel('y')\n",
    "    plt.legend(bbox_to_anchor=(1.04,1), loc=\"upper left\")  # Legend outside plot\n",
    "    plt.xlim(0, 1)\n",
    "    plt.ylim(0, y.max() + 1)\n",
    "\n",
    "    plt.show()"
   ]
  },
  {
   "cell_type": "code",
   "execution_count": 15,
   "metadata": {
    "colab": {
     "base_uri": "https://localhost:8080/",
     "height": 399,
     "referenced_widgets": [
      "e69498961ea04116a5f7a4150c887c00",
      "9d394213e6864e72bc27fb81e315e1b4",
      "41d56ee9a3c949ce84aa948dc96ac0c1",
      "fcf7e099483946cd87e2cb2c35f06399",
      "9ce5eca5a95843cf9c730ca85e8ba218",
      "7bf24c6eb85d44e38a32840eac8d0426",
      "24c14c5fcda149b08048d1a5503b6c5e"
     ]
    },
    "id": "A_p84c_-Yfa4",
    "outputId": "38631b37-af58-4875-94e0-f24df2232499"
   },
   "outputs": [
    {
     "data": {
      "application/vnd.jupyter.widget-view+json": {
       "model_id": "08aef3ea37914edc9fc8acc943b5761d",
       "version_major": 2,
       "version_minor": 0
      },
      "text/plain": [
       "interactive(children=(FloatLogSlider(value=0.001, description='lam', max=3.0, min=-3.0), Output(layout=Layout(…"
      ]
     },
     "metadata": {},
     "output_type": "display_data"
    }
   ],
   "source": [
    "# Define interaction code\n",
    "from ipywidgets import fixed, interactive, FloatLogSlider, widget, widgets\n",
    "\n",
    "interactive_plot = interactive(poly_model_ridge, \n",
    "                               lam=FloatLogSlider(min=-3, max=3, value=-3),\n",
    "                               degree=fixed(14),\n",
    "                               X=fixed(X),\n",
    "                               y=fixed(y),\n",
    "                               xs=fixed(xs))\n",
    "\n",
    "output = interactive_plot.children[-1]\n",
    "output.layout.height = '350px'\n",
    "interactive_plot"
   ]
  },
  {
   "cell_type": "markdown",
   "metadata": {
    "id": "iX1AvIKnYfa8"
   },
   "source": [
    "# Demo 6: Visualizing Ridge Regression\n",
    "First, some set up work to setup the initial state to make computations faster"
   ]
  },
  {
   "cell_type": "code",
   "execution_count": 16,
   "metadata": {
    "id": "mqR46BIeYfa8"
   },
   "outputs": [],
   "source": [
    "import math\n",
    "\n",
    "from ipywidgets import interactive, FloatLogSlider, FloatSlider, widget, widgets\n",
    "from IPython.display import display\n",
    "\n",
    "from matplotlib import ticker\n",
    "\n",
    "# Make a datset that has features of all 1s for the intercept\n",
    "X_mod = np.ones((X.shape[0], 2))\n",
    "X_mod[:, 1] = X[:, 0]\n",
    "\n",
    "\n",
    "def compute_ridge_path(X, y, lambdas):\n",
    "    \"\"\"\n",
    "    Computes the Ridge Regression coefficient path for the given list of lambdas\n",
    "    \n",
    "    Trains a Ridge model for each value of lambda and returns the coefficients\n",
    "    as a (2, len(lambdas)) array storing the coefficients as columns.\n",
    "    \"\"\"\n",
    "    coefs = np.zeros((2, len(lambdas)))\n",
    "    for i, lam in enumerate(lambdas):\n",
    "        model = Ridge(alpha=lam, fit_intercept=False)\n",
    "        model.fit(X, y)\n",
    "        coefs[:, i] = model.coef_[0, :].T\n",
    "    return coefs\n",
    "    \n",
    "    \n",
    "def rss(X, y, w0s, w1s):\n",
    "    \"\"\"\n",
    "    Compute the value of the RSS metric for each combo of w0 and w1\n",
    "    \n",
    "    Returns a numpy array of RSS values of size ((w0s.size, w1s.size))\n",
    "    \"\"\"\n",
    "    rss_values = np.zeros(shape=(w0s.size, w1s.size))\n",
    "\n",
    "    # For every setting of w0 and w1\n",
    "    for i, w0 in enumerate(w0s):\n",
    "        for j, w1 in enumerate(w1s):\n",
    "            w = np.array([w0, w1]).reshape((2,1))\n",
    "            # This computes RSS(w)\n",
    "            rss_values[j, i] = np.sum((y - X @ w) ** 2) \n",
    "    return rss_values\n",
    "\n",
    "# Set up common state\n",
    "lambda_params = (-5, 3)\n",
    "lambdas = np.logspace(lambda_params[0], lambda_params[1], 50)\n",
    "coefs = compute_ridge_path(X_mod, y, lambdas)\n",
    "w0s = np.linspace(-15, 15, 200)\n",
    "w1s = np.linspace(-15, 15, 200)\n",
    "# Clever: We only have to compute RSS once since it only dpeends on data and possible w0s and w1s\n",
    "rss_values = rss(X_mod, y, w0s=w0s, w1s=w1s)"
   ]
  },
  {
   "cell_type": "code",
   "execution_count": 17,
   "metadata": {
    "id": "FFrh5Aue9MsS"
   },
   "outputs": [],
   "source": [
    "def plot_contour(axis, w0s, w1s, values):\n",
    "    \"\"\"\n",
    "    Plots a contour plot on the given axis using w0s as the x-axis,\n",
    "    w1s as the y-axis, and values as the z-axis.\n",
    "    \"\"\"\n",
    "    # First, plot the color gradient\n",
    "    axis.contourf(w0s, w1s, values, levels=100, alpha=.5)\n",
    "    \n",
    "    # Then plot the labelled contours\n",
    "    cs = axis.contour(w0s, w1s, values, levels=10, colors='black')\n",
    "    axis.clabel(cs, inline=1, fontsize=8)\n",
    "    \n",
    "    # Then draw the x and y axes\n",
    "    axis.axhline(0, color='black', alpha=.5, dashes=[2, 4], linewidth=1)\n",
    "    axis.axvline(0, color='black', alpha=0.5, dashes=[2, 4], linewidth=1)\n",
    "    axis.set_xlim(w0s.min(), w0s.max())\n",
    "    axis.set_ylim(w1s.min(), w1s.max())\n",
    "\n",
    "    \n",
    "# Setup the objects that hold widget state\n",
    "w0_widget  = FloatSlider(min=math.floor(w0s.min()), max=math.ceil(w0s.max()), continuous_update=False)\n",
    "w1_widget  = FloatSlider(min=math.floor(w1s.min()), max=math.ceil(w1s.max()), continuous_update=False)\n",
    "lam_widget = FloatLogSlider(min=lambda_params[0], max=lambda_params[1], value=lambda_params[0], continuous_update=False)\n",
    "\n",
    "def do_ols(event):\n",
    "    \"\"\"\n",
    "    When clicked, will fit a LinearRegression model to the data and change the values for the widgets\n",
    "    \"\"\"\n",
    "    model = LinearRegression(fit_intercept=False)\n",
    "    model.fit(X_mod, y)\n",
    "    w0_widget.value = model.coef_[0, 0]\n",
    "    w1_widget.value = model.coef_[0, 1]\n",
    "    \n",
    "\n",
    "\n",
    "def do_ridge(event):\n",
    "    \"\"\"\n",
    "    When clicked, will fit a Ridge model to the data and change the values for the widgets\n",
    "    \"\"\"\n",
    "    model = Ridge(alpha=lam_widget.value, fit_intercept=False)\n",
    "    model.fit(X_mod, y)\n",
    "    w0_widget.value = model.coef_[0, 0]\n",
    "    w1_widget.value = model.coef_[0, 1]\n",
    "    \n",
    "# Create the buttons\n",
    "button_ols = widgets.Button(\n",
    "    description='Find Ordinary Least Squares Solution',\n",
    "    layout={'width': '300px'}\n",
    ")\n",
    "button_ols.on_click(do_ols) \n",
    "button_ridge = widgets.Button(\n",
    "    description='Find Ridge Regression Solution',\n",
    "    layout={'width': '300px'}\n",
    ")\n",
    "button_ridge.on_click(do_ridge)\n",
    "\n",
    "\n",
    "def plot(w0, w1, lam, show_path):\n",
    "    \"\"\"\n",
    "    Plots the graph showing the quality metric at the different w0 and w1 pairs using lambda strength\n",
    "    lam for Ridge regression. If show_path is True, shows coefficient paths.\n",
    "    \"\"\"\n",
    "    if show_path:\n",
    "        fig, [[ax1, ax2, ax3], [ax4, ax5, ax6]] = plt.subplots(ncols=3, nrows=2, figsize=(30, 15))\n",
    "        ax4.axis('off')\n",
    "        ax6.axis('off')\n",
    "    else:\n",
    "        fig, [ax1, ax2, ax3] = plt.subplots(ncols=3, figsize=(30, 7))\n",
    "        \n",
    "\n",
    "    xs = np.linspace(0, 1, 100)\n",
    "    \n",
    "    # Plot the data on ax1\n",
    "    ax1.scatter(X, y, c='black', label='Data')\n",
    "    ax1.plot(xs, w0 + w1 * xs, label=f'y = {w0:.2f} + {w1:.2f}x')\n",
    "    ax1.set_xlim(0, 1)\n",
    "    ax1.set_ylim(-0.05, y.max() + 1)\n",
    "    ax1.set_xlabel('x')\n",
    "    ax1.set_ylabel('y')\n",
    "    ax1.set_title('Data + Prediction')\n",
    "    ax1.legend()\n",
    "    \n",
    "    # Plot 2 shows RSS alone\n",
    "    plot_contour(ax2, w0s, w1s, rss_values)\n",
    "    if show_path:\n",
    "        ax2.plot(coefs[0, :], coefs[1, :], c='w')\n",
    "    ax2.scatter(np.array([w0]), np.array([w1]), edgecolor='black', facecolor='white', s=100)\n",
    "    ax2.set_title('Ordinary Least Squares QM')\n",
    "    ax2.set_xlabel('w0')\n",
    "    ax2.set_ylabel('w1')\n",
    "    \n",
    "    # Plot 3 shows RSS + L2 Norm\n",
    "    ridge_penalties = w0s.reshape((w1s.shape[0], 1)) ** 2 + w0s ** 2\n",
    "    plot_contour(ax3, w0s, w1s, rss_values + lam * ridge_penalties)\n",
    "    if show_path:\n",
    "        ax3.plot(coefs[0, :], coefs[1, :], c='w')\n",
    "    ax3.scatter(np.array([w0]), np.array([w1]), edgecolor='black', facecolor='white', s=100)\n",
    "    ax3.set_xlabel('w0')\n",
    "    ax3.set_ylabel('w1')\n",
    "    ax3.set_title(f'Ridge Regression QM: Lambda={lam:.2e}')\n",
    "\n",
    "    \n",
    "    # Show the standard coefficient path chart\n",
    "    if show_path:\n",
    "        ax5.plot(lambdas, coefs[0, :], label='w0')\n",
    "        ax5.plot(lambdas, coefs[1, :], label='w1')\n",
    "        \n",
    "        ax5.legend(bbox_to_anchor=(1.04,1), loc=\"upper left\")\n",
    "        ax5.set_xscale('log')\n",
    "        ax5.set_xlabel('lambda')\n",
    "        ax5.set_ylabel('magnitude')\n",
    "        ax5.set_title('Coefficient Path')\n",
    "        \n",
    "    plt.show()\n",
    "\n",
    "interactive_plot = interactive(plot, w0=w0_widget, w1=w1_widget, lam=lam_widget, show_path=False)\n",
    "output = interactive_plot.children[-1]\n",
    "output.layout.height = '800px'"
   ]
  },
  {
   "cell_type": "markdown",
   "metadata": {
    "id": "taZMYk7UYfbB"
   },
   "source": [
    "Ordinary Least Squares\n",
    "$$\\hat{w}_{LS} = \\min_w RSS(w)$$\n",
    "\n",
    "Ridge Regression\n",
    "\n",
    "$$\\hat{w}_{ridge} = \\min_w RSS(w) + \\lambda ||w||_2^2$$\n",
    "\n",
    "\n",
    "\n",
    "---\n",
    "\n",
    "*Note:* In general we want to avoid penalizing the intercept coefficient. We'll discuss this more later, but just note that this demo does a slightly \"wrong\" thing here by penalizing the intercept. We do this to keep the demo as simple as possible. You can see the very last section of this notebook has the \"correct\" behavior that does not penalize the intercept.\n",
    "\n"
   ]
  },
  {
   "cell_type": "code",
   "execution_count": 18,
   "metadata": {
    "colab": {
     "base_uri": "https://localhost:8080/",
     "height": 977,
     "referenced_widgets": [
      "8c949bfaa50246fea16cc4905f8ca8af",
      "6daac88d1fc24da582800d220a0d07dc",
      "4d13d0b5ddd7454c9eb727fe8966d978",
      "2e2de4181eab4718a117e6a3f27178d4",
      "f1fd4c3a8c26479284e58cce4155411f",
      "0cb5e25b4ecc482d8ec32b417e8c8d60",
      "a9ca5190e6df4cce985e2b9e3a7ecf89",
      "d346d1a1f96a4355a32bbe40bed6a115",
      "d7e1d873c09a405ba564a8dc9928bd07",
      "2363e657ff0246cdb350ab8ae8f128aa",
      "70211d0c8f33415cb70c607cd3f94306",
      "a68fcfd763dd4314a08ade0172e0a2e4",
      "d768a1f8db904793ae173c35feb8196b",
      "cf68191fd71645d89521eda658944361",
      "3fdd3fcf3b1543458654a92497ab9439",
      "c2a2c2802ed74736b2a409e85d1b3e6d",
      "e7cfdde60843469db757bd990fdb1f1c",
      "1fbab7fccf8c430c87dfe0fb5ba6768e",
      "f00ec1d48a854a97a6b2a0edd0774124",
      "d1eedf497a714eaab2a628daa0267832",
      "ed79309afbbf47ce86f11e0791b6aab2",
      "2366347c35264320acc8cbcd0520eacb",
      "68c9e68dea54494ca76a6629a3d13766",
      "f16cde9a121b44ff85a0a05368f70be8"
     ]
    },
    "id": "klcQbiO9YfbC",
    "outputId": "d57e41a8-9159-4ef1-f67d-f91cd148e275",
    "scrolled": true
   },
   "outputs": [
    {
     "data": {
      "application/vnd.jupyter.widget-view+json": {
       "model_id": "b84dc7219e664a139dd8165704454569",
       "version_major": 2,
       "version_minor": 0
      },
      "text/plain": [
       "HBox(children=(Button(description='Find Ordinary Least Squares Solution', layout=Layout(width='300px'), style=…"
      ]
     },
     "metadata": {},
     "output_type": "display_data"
    },
    {
     "data": {
      "application/vnd.jupyter.widget-view+json": {
       "model_id": "8eb2cf6b482a4931965314e8a4b1114a",
       "version_major": 2,
       "version_minor": 0
      },
      "text/plain": [
       "interactive(children=(FloatSlider(value=0.0, continuous_update=False, description='w0', max=15.0, min=-15.0), …"
      ]
     },
     "metadata": {},
     "output_type": "display_data"
    }
   ],
   "source": [
    "display(widgets.HBox([button_ols, button_ridge]))\n",
    "interactive_plot"
   ]
  },
  {
   "cell_type": "markdown",
   "metadata": {
    "id": "d1h3n0eIYfbF"
   },
   "source": [
    "# Demo 6b: Visualizing Ridge Regression - Don't Penalize Intercept\n",
    "Here is the exact repeat of all the code from before, but that doesn't penalize $w_0$"
   ]
  },
  {
   "cell_type": "code",
   "execution_count": 19,
   "metadata": {
    "colab": {
     "base_uri": "https://localhost:8080/"
    },
    "id": "zNq6DJXQYfbF",
    "outputId": "0d047d8b-0e01-4237-8fff-eb74e034676e"
   },
   "outputs": [
    {
     "data": {
      "text/plain": [
       "array([[3.43023209, 3.43024453, 3.43026265, 3.43028903, 3.43032746,\n",
       "        3.43038343, 3.43046493, 3.43058363, 3.43075647, 3.43100818,\n",
       "        3.4313747 , 3.43190839, 3.43268541, 3.43381659, 3.43546304,\n",
       "        3.43785886, 3.44134382, 3.44641024, 3.45376993, 3.46444855,\n",
       "        3.47991682, 3.5022686 , 3.53445393, 3.58056552, 3.64615322,\n",
       "        3.73849019, 3.86662418, 4.04091881, 4.27167505, 4.56647911,\n",
       "        4.92641156, 5.34230634, 5.7933479 , 6.25009087, 6.68159579,\n",
       "        7.06333801, 7.38192009, 7.6351004 , 7.82859681, 7.97210954,\n",
       "        8.07619975, 8.15048009, 8.20287527, 8.23953109, 8.26502854,\n",
       "        8.28269347, 8.29489801, 8.30331385, 8.30910946, 8.313097  ],\n",
       "       [9.95526302, 9.9552377 , 9.95520082, 9.95514712, 9.95506891,\n",
       "        9.95495501, 9.95478913, 9.95454758, 9.9541958 , 9.95368354,\n",
       "        9.95293761, 9.95185147, 9.9502701 , 9.94796797, 9.94461717,\n",
       "        9.93974127, 9.93264882, 9.92233781, 9.90735963, 9.88562688,\n",
       "        9.85414642, 9.80865686, 9.74315441, 9.64930974, 9.51582799,\n",
       "        9.32790706, 9.06713331, 8.71241505, 8.24278814, 7.64281338,\n",
       "        6.91029162, 6.06387734, 5.14593354, 4.21638645, 3.33820296,\n",
       "        2.56129473, 1.91292779, 1.3976642 , 1.00386717, 0.71179516,\n",
       "        0.49995445, 0.34878173, 0.24214892, 0.1675483 , 0.11565679,\n",
       "        0.07970576, 0.05486752, 0.0377399 , 0.02594488, 0.01782958]])"
      ]
     },
     "execution_count": 19,
     "metadata": {},
     "output_type": "execute_result"
    }
   ],
   "source": [
    "import math\n",
    "\n",
    "from ipywidgets import interactive, FloatLogSlider, FloatSlider, widget, widgets\n",
    "from IPython.display import display\n",
    "\n",
    "from matplotlib import ticker\n",
    "\n",
    "def compute_ridge_path2(X, y, lambdas):\n",
    "    coefs = np.zeros((2, len(lambdas)))\n",
    "    for i, lam in enumerate(lambdas):\n",
    "        model = Ridge(alpha=lam, fit_intercept=True)\n",
    "        model.fit(X, y)\n",
    "        coefs[0, i] = model.intercept_\n",
    "        coefs[1, i] = model.coef_[0, 0]\n",
    "    return coefs\n",
    "\n",
    "    \n",
    "def rss2(X, y, w0s, w1s):\n",
    "    rss_values = np.zeros(shape=(w0s.size, w1s.size))\n",
    "\n",
    "    # For every setting of w0 and w1\n",
    "    for i, w0 in enumerate(w0s):\n",
    "        for j, w1 in enumerate(w1s):\n",
    "            # This computes RSS(w)\n",
    "            rss_values[j, i] = np.sum((y - (w0 + X * w1)) ** 2) \n",
    "    return rss_values\n",
    "\n",
    "lambda_params2 = (-5, 3)\n",
    "lambdas2 = np.logspace(lambda_params2[0], lambda_params2[1], 50)\n",
    "coefs2 = compute_ridge_path2(X, y, lambdas2)\n",
    "w0s2 = np.linspace(-15, 15, 200)\n",
    "w1s2 = np.linspace(-15, 15, 200)\n",
    "rss_values2 = rss2(X, y, w0s=w0s2, w1s=w1s2)\n",
    "coefs2"
   ]
  },
  {
   "cell_type": "code",
   "execution_count": 21,
   "metadata": {
    "id": "O1TG9M5YYfbI"
   },
   "outputs": [],
   "source": [
    "def plot_contour(axis, w0s, w1s, values):\n",
    "    # First, plot the color gradient\n",
    "    axis.contourf(w0s, w1s, values, levels=100, alpha=.5)\n",
    "    \n",
    "    # Then plot the labelled contours\n",
    "    cs = axis.contour(w0s, w1s, values, levels=10, colors='black')\n",
    "    axis.clabel(cs, inline=1, fontsize=8)\n",
    "    \n",
    "    # Then draw the x and y axes\n",
    "    axis.axhline(0, color='black', alpha=.5, dashes=[2, 4], linewidth=1)\n",
    "    axis.axvline(0, color='black', alpha=0.5, dashes=[2, 4], linewidth=1)\n",
    "    axis.set_xlim(w0s.min(), w0s.max())\n",
    "    axis.set_ylim(w1s.min(), w1s.max())\n",
    "\n",
    "    \n",
    "# Setup the objects that hold widget state\n",
    "w0_widget2  = FloatSlider(min=math.floor(w0s2.min()), max=math.ceil(w0s2.max()), continuous_update=False)\n",
    "w1_widget2  = FloatSlider(min=math.floor(w1s2.min()), max=math.ceil(w1s2.max()), continuous_update=False)\n",
    "lam_widget2 = FloatLogSlider(min=lambda_params2[0], max=lambda_params2[1], value=lambda_params2[0], continuous_update=False)\n",
    "\n",
    "\n",
    "# Define the buttons that will find the OLS or ridge solutions\n",
    "def do_ols2(event):\n",
    "    model = LinearRegression()\n",
    "    model.fit(X, y)\n",
    "    w0_widget2.value = model.intercept_\n",
    "    w1_widget2.value = model.coef_[0, 0]\n",
    "    \n",
    "    \n",
    "def do_ridge2(event):\n",
    "    model = Ridge(alpha=lam_widget2.value)\n",
    "    model.fit(X, y)\n",
    "    w0_widget2.value = model.intercept_\n",
    "    w1_widget2.value = model.coef_[0, 0]\n",
    "    \n",
    "# Creat the buttons \n",
    "button_ols2 = widgets.Button(\n",
    "    description='Find Ordinary Least Squares Solution',\n",
    "    layout={'width': '300px'}\n",
    ")\n",
    "button_ols2.on_click(do_ols2)   \n",
    "button_ridge2 = widgets.Button(\n",
    "    description='Find Ridge Regression Solution',\n",
    "    layout={'width': '300px'}\n",
    ")\n",
    "button_ridge2.on_click(do_ridge2)\n",
    "\n",
    "\n",
    "def plot(w0, w1, lam, show_path):\n",
    "    if show_path:\n",
    "        fig, [[ax1, ax2, ax3], [ax4, ax5, ax6]] = plt.subplots(ncols=3, nrows=2, figsize=(30, 15))\n",
    "        ax4.axis('off')\n",
    "        ax6.axis('off')\n",
    "    else:\n",
    "        fig, [ax1, ax2, ax3] = plt.subplots(ncols=3, figsize=(30, 7))\n",
    "        \n",
    "\n",
    "    xs = np.linspace(0, 1, 100)\n",
    "    \n",
    "    # Plot the data on ax1\n",
    "    ax1.scatter(X, y, c='black', label='Data')\n",
    "    ax1.plot(xs, w0 + w1 * xs, label=f'y = {w0:.2f} + {w1:.2f}x')\n",
    "    ax1.set_xlim(0, 1)\n",
    "    ax1.set_ylim(-0.05, y.max() + 1)\n",
    "    ax1.set_xlabel('x')\n",
    "    ax1.set_ylabel('y')\n",
    "    ax1.set_title('Data + Prediction')\n",
    "    ax1.legend()\n",
    "    \n",
    "    # Plot 2 shows RSS alone\n",
    "    plot_contour(ax2, w0s2, w1s2, rss_values2)\n",
    "    if show_path:\n",
    "        ax2.plot(coefs2[0, :], coefs2[1, :], c='w')\n",
    "    ax2.scatter(np.array([w0]), np.array([w1]), edgecolor='black', facecolor='white', s=100)\n",
    "    ax2.set_title('Ordinary Least Squares QM')\n",
    "    ax2.set_xlabel('w0')\n",
    "    ax2.set_ylabel('w1')\n",
    "    \n",
    "    # Plot 3 shows RSS + L2 Norm\n",
    "    ridge_penalties = w1s2.reshape((w1s2.shape[0], 1)) ** 2 + np.zeros((w1s2.shape[0]))\n",
    "    plot_contour(ax3, w0s2, w1s2, rss_values2 + lam * ridge_penalties)\n",
    "    if show_path:\n",
    "        ax3.plot(coefs2[0, :], coefs2[1, :], c='w')\n",
    "    ax3.scatter(np.array([w0]), np.array([w1]), edgecolor='black', facecolor='white', s=100)\n",
    "    ax3.set_xlabel('w0')\n",
    "    ax3.set_ylabel('w1')\n",
    "    ax3.set_title(f'Ridge Regression QM: Lambda={lam:.2e}')\n",
    "\n",
    "    \n",
    "    # Show the s2tandard coefficient path chart\n",
    "    if show_path:\n",
    "        ax5.plot(lambdas, coefs2[0, :], label='w0')\n",
    "        ax5.plot(lambdas, coefs2[1, :], label='w1')\n",
    "        \n",
    "        ax5.legend(bbox_to_anchor=(1.04,1), loc=\"upper left\")\n",
    "        ax5.set_xscale('log')\n",
    "        ax5.set_xlabel('lambda')\n",
    "        ax5.set_ylabel('magnitude')\n",
    "        ax5.set_title('Coefficient Path')\n",
    "        \n",
    "    plt.show()\n",
    "\n",
    "interactive_plot2 = interactive(plot, w0=w0_widget2, w1=w1_widget2, lam=lam_widget2, show_path=False)\n",
    "output = interactive_plot2.children[-1]\n",
    "output.layout.height = '800px'"
   ]
  },
  {
   "cell_type": "code",
   "execution_count": 22,
   "metadata": {
    "colab": {
     "base_uri": "https://localhost:8080/",
     "height": 977,
     "referenced_widgets": [
      "ff8c259966b6477fb4ccccce3c638358",
      "135af024e2d04fcba2fbc1983749551f",
      "55fd75897e47440eb4612f86253ae555",
      "988dd577938b4502810d9e827729ac6d",
      "d4bf327d8b7c458d9b4fce03c2660fe2",
      "bb926de23b4f47a68b208a8236fc560c",
      "9f3dd8c178524efe98b926298cba6fdd",
      "8c29a1c6b58e4cd08d442ab654dd650d",
      "66e35e08fda542479ad1bd8c491b8b0d",
      "d3c93750c7f544ac9b99d5f6b78d2d68",
      "fb5eb864e3434eac89097859b1e1b1a1",
      "23ffb962220041cd841740f7feeadf4a",
      "6f9cae53a37b4f7f94da39e281e53cd2",
      "7168e306489046948e8cfa5eb2ab23c4",
      "67cfe68233cd4d1bb7c498b38b0e1adf",
      "01341079601a4a3a969c8e5f341cbe9e",
      "4c4b3b3a104846948c945a98dedad65f",
      "af3a0ef87b2a4d3f939ffa777963c9bb",
      "fde959e50d2b4c2da32e7125bbc3c86f",
      "e7e8b57ebde34b3398b6395f5b5fa025",
      "0d1bf289727b44b7a0b281e145374d56",
      "9705418ececd4380b286146672349d4a",
      "5850d874ce244c8e9a1b51700ce864e1",
      "fb95fe6380a74003bf32017fb0ad8c26"
     ]
    },
    "id": "hmppcRSVYfbK",
    "outputId": "01edb626-9983-494f-98c0-07fe6cc46aef"
   },
   "outputs": [
    {
     "data": {
      "application/vnd.jupyter.widget-view+json": {
       "model_id": "349661fcb85546f987b169a2d6082ef0",
       "version_major": 2,
       "version_minor": 0
      },
      "text/plain": [
       "HBox(children=(Button(description='Find Ordinary Least Squares Solution', layout=Layout(width='300px'), style=…"
      ]
     },
     "metadata": {},
     "output_type": "display_data"
    },
    {
     "data": {
      "application/vnd.jupyter.widget-view+json": {
       "model_id": "b8f79958108b44df906e39d1296736b0",
       "version_major": 2,
       "version_minor": 0
      },
      "text/plain": [
       "interactive(children=(FloatSlider(value=0.0, continuous_update=False, description='w0', max=15.0, min=-15.0), …"
      ]
     },
     "metadata": {},
     "output_type": "display_data"
    }
   ],
   "source": [
    "display(widgets.HBox([button_ols2, button_ridge2]))\n",
    "interactive_plot2"
   ]
  },
  {
   "cell_type": "code",
   "execution_count": null,
   "metadata": {
    "id": "QILENyr2YfbM"
   },
   "outputs": [],
   "source": []
  },
  {
   "cell_type": "code",
   "execution_count": null,
   "metadata": {
    "id": "a6KMj75NYfbN"
   },
   "outputs": [],
   "source": []
  }
 ],
 "metadata": {
  "colab": {
   "collapsed_sections": [],
   "name": "Lec3.ipynb",
   "provenance": []
  },
  "kernelspec": {
   "display_name": "Python 3",
   "language": "python",
   "name": "python3"
  },
  "language_info": {
   "codemirror_mode": {
    "name": "ipython",
    "version": 3
   },
   "file_extension": ".py",
   "mimetype": "text/x-python",
   "name": "python",
   "nbconvert_exporter": "python",
   "pygments_lexer": "ipython3",
   "version": "3.8.10"
  },
  "widgets": {
   "application/vnd.jupyter.widget-state+json": {
    "01341079601a4a3a969c8e5f341cbe9e": {
     "model_module": "@jupyter-widgets/controls",
     "model_module_version": "1.5.0",
     "model_name": "SliderStyleModel",
     "state": {
      "_model_module": "@jupyter-widgets/controls",
      "_model_module_version": "1.5.0",
      "_model_name": "SliderStyleModel",
      "_view_count": null,
      "_view_module": "@jupyter-widgets/base",
      "_view_module_version": "1.2.0",
      "_view_name": "StyleView",
      "description_width": "",
      "handle_color": null
     }
    },
    "0cb5e25b4ecc482d8ec32b417e8c8d60": {
     "model_module": "@jupyter-widgets/base",
     "model_module_version": "1.2.0",
     "model_name": "LayoutModel",
     "state": {
      "_model_module": "@jupyter-widgets/base",
      "_model_module_version": "1.2.0",
      "_model_name": "LayoutModel",
      "_view_count": null,
      "_view_module": "@jupyter-widgets/base",
      "_view_module_version": "1.2.0",
      "_view_name": "LayoutView",
      "align_content": null,
      "align_items": null,
      "align_self": null,
      "border": null,
      "bottom": null,
      "display": null,
      "flex": null,
      "flex_flow": null,
      "grid_area": null,
      "grid_auto_columns": null,
      "grid_auto_flow": null,
      "grid_auto_rows": null,
      "grid_column": null,
      "grid_gap": null,
      "grid_row": null,
      "grid_template_areas": null,
      "grid_template_columns": null,
      "grid_template_rows": null,
      "height": null,
      "justify_content": null,
      "justify_items": null,
      "left": null,
      "margin": null,
      "max_height": null,
      "max_width": null,
      "min_height": null,
      "min_width": null,
      "object_fit": null,
      "object_position": null,
      "order": null,
      "overflow": null,
      "overflow_x": null,
      "overflow_y": null,
      "padding": null,
      "right": null,
      "top": null,
      "visibility": null,
      "width": "300px"
     }
    },
    "0cb7fa3582dd4725b5026f069148cf1c": {
     "model_module": "@jupyter-widgets/base",
     "model_module_version": "1.2.0",
     "model_name": "LayoutModel",
     "state": {
      "_model_module": "@jupyter-widgets/base",
      "_model_module_version": "1.2.0",
      "_model_name": "LayoutModel",
      "_view_count": null,
      "_view_module": "@jupyter-widgets/base",
      "_view_module_version": "1.2.0",
      "_view_name": "LayoutView",
      "align_content": null,
      "align_items": null,
      "align_self": null,
      "border": null,
      "bottom": null,
      "display": null,
      "flex": null,
      "flex_flow": null,
      "grid_area": null,
      "grid_auto_columns": null,
      "grid_auto_flow": null,
      "grid_auto_rows": null,
      "grid_column": null,
      "grid_gap": null,
      "grid_row": null,
      "grid_template_areas": null,
      "grid_template_columns": null,
      "grid_template_rows": null,
      "height": null,
      "justify_content": null,
      "justify_items": null,
      "left": null,
      "margin": null,
      "max_height": null,
      "max_width": null,
      "min_height": null,
      "min_width": null,
      "object_fit": null,
      "object_position": null,
      "order": null,
      "overflow": null,
      "overflow_x": null,
      "overflow_y": null,
      "padding": null,
      "right": null,
      "top": null,
      "visibility": null,
      "width": null
     }
    },
    "0d1bf289727b44b7a0b281e145374d56": {
     "model_module": "@jupyter-widgets/base",
     "model_module_version": "1.2.0",
     "model_name": "LayoutModel",
     "state": {
      "_model_module": "@jupyter-widgets/base",
      "_model_module_version": "1.2.0",
      "_model_name": "LayoutModel",
      "_view_count": null,
      "_view_module": "@jupyter-widgets/base",
      "_view_module_version": "1.2.0",
      "_view_name": "LayoutView",
      "align_content": null,
      "align_items": null,
      "align_self": null,
      "border": null,
      "bottom": null,
      "display": null,
      "flex": null,
      "flex_flow": null,
      "grid_area": null,
      "grid_auto_columns": null,
      "grid_auto_flow": null,
      "grid_auto_rows": null,
      "grid_column": null,
      "grid_gap": null,
      "grid_row": null,
      "grid_template_areas": null,
      "grid_template_columns": null,
      "grid_template_rows": null,
      "height": null,
      "justify_content": null,
      "justify_items": null,
      "left": null,
      "margin": null,
      "max_height": null,
      "max_width": null,
      "min_height": null,
      "min_width": null,
      "object_fit": null,
      "object_position": null,
      "order": null,
      "overflow": null,
      "overflow_x": null,
      "overflow_y": null,
      "padding": null,
      "right": null,
      "top": null,
      "visibility": null,
      "width": null
     }
    },
    "135af024e2d04fcba2fbc1983749551f": {
     "model_module": "@jupyter-widgets/base",
     "model_module_version": "1.2.0",
     "model_name": "LayoutModel",
     "state": {
      "_model_module": "@jupyter-widgets/base",
      "_model_module_version": "1.2.0",
      "_model_name": "LayoutModel",
      "_view_count": null,
      "_view_module": "@jupyter-widgets/base",
      "_view_module_version": "1.2.0",
      "_view_name": "LayoutView",
      "align_content": null,
      "align_items": null,
      "align_self": null,
      "border": null,
      "bottom": null,
      "display": null,
      "flex": null,
      "flex_flow": null,
      "grid_area": null,
      "grid_auto_columns": null,
      "grid_auto_flow": null,
      "grid_auto_rows": null,
      "grid_column": null,
      "grid_gap": null,
      "grid_row": null,
      "grid_template_areas": null,
      "grid_template_columns": null,
      "grid_template_rows": null,
      "height": null,
      "justify_content": null,
      "justify_items": null,
      "left": null,
      "margin": null,
      "max_height": null,
      "max_width": null,
      "min_height": null,
      "min_width": null,
      "object_fit": null,
      "object_position": null,
      "order": null,
      "overflow": null,
      "overflow_x": null,
      "overflow_y": null,
      "padding": null,
      "right": null,
      "top": null,
      "visibility": null,
      "width": null
     }
    },
    "18a1b55502af469282adb1419305a4ae": {
     "model_module": "@jupyter-widgets/base",
     "model_module_version": "1.2.0",
     "model_name": "LayoutModel",
     "state": {
      "_model_module": "@jupyter-widgets/base",
      "_model_module_version": "1.2.0",
      "_model_name": "LayoutModel",
      "_view_count": null,
      "_view_module": "@jupyter-widgets/base",
      "_view_module_version": "1.2.0",
      "_view_name": "LayoutView",
      "align_content": null,
      "align_items": null,
      "align_self": null,
      "border": null,
      "bottom": null,
      "display": null,
      "flex": null,
      "flex_flow": null,
      "grid_area": null,
      "grid_auto_columns": null,
      "grid_auto_flow": null,
      "grid_auto_rows": null,
      "grid_column": null,
      "grid_gap": null,
      "grid_row": null,
      "grid_template_areas": null,
      "grid_template_columns": null,
      "grid_template_rows": null,
      "height": "350px",
      "justify_content": null,
      "justify_items": null,
      "left": null,
      "margin": null,
      "max_height": null,
      "max_width": null,
      "min_height": null,
      "min_width": null,
      "object_fit": null,
      "object_position": null,
      "order": null,
      "overflow": null,
      "overflow_x": null,
      "overflow_y": null,
      "padding": null,
      "right": null,
      "top": null,
      "visibility": null,
      "width": null
     }
    },
    "1fbab7fccf8c430c87dfe0fb5ba6768e": {
     "model_module": "@jupyter-widgets/controls",
     "model_module_version": "1.5.0",
     "model_name": "SliderStyleModel",
     "state": {
      "_model_module": "@jupyter-widgets/controls",
      "_model_module_version": "1.5.0",
      "_model_name": "SliderStyleModel",
      "_view_count": null,
      "_view_module": "@jupyter-widgets/base",
      "_view_module_version": "1.2.0",
      "_view_name": "StyleView",
      "description_width": "",
      "handle_color": null
     }
    },
    "21f6d2d411b6410784773a8927562d5d": {
     "model_module": "@jupyter-widgets/controls",
     "model_module_version": "1.5.0",
     "model_name": "VBoxModel",
     "state": {
      "_dom_classes": [
       "widget-interact"
      ],
      "_model_module": "@jupyter-widgets/controls",
      "_model_module_version": "1.5.0",
      "_model_name": "VBoxModel",
      "_view_count": null,
      "_view_module": "@jupyter-widgets/controls",
      "_view_module_version": "1.5.0",
      "_view_name": "VBoxView",
      "box_style": "",
      "children": [
       "IPY_MODEL_4edb3f34fce9479387c98f4aabe099db",
       "IPY_MODEL_8c109f14c285401b94827e8fc82b944f"
      ],
      "layout": "IPY_MODEL_ffeccc5072064a27b6ecfd6cde450d06"
     }
    },
    "2363e657ff0246cdb350ab8ae8f128aa": {
     "model_module": "@jupyter-widgets/base",
     "model_module_version": "1.2.0",
     "model_name": "LayoutModel",
     "state": {
      "_model_module": "@jupyter-widgets/base",
      "_model_module_version": "1.2.0",
      "_model_name": "LayoutModel",
      "_view_count": null,
      "_view_module": "@jupyter-widgets/base",
      "_view_module_version": "1.2.0",
      "_view_name": "LayoutView",
      "align_content": null,
      "align_items": null,
      "align_self": null,
      "border": null,
      "bottom": null,
      "display": null,
      "flex": null,
      "flex_flow": null,
      "grid_area": null,
      "grid_auto_columns": null,
      "grid_auto_flow": null,
      "grid_auto_rows": null,
      "grid_column": null,
      "grid_gap": null,
      "grid_row": null,
      "grid_template_areas": null,
      "grid_template_columns": null,
      "grid_template_rows": null,
      "height": null,
      "justify_content": null,
      "justify_items": null,
      "left": null,
      "margin": null,
      "max_height": null,
      "max_width": null,
      "min_height": null,
      "min_width": null,
      "object_fit": null,
      "object_position": null,
      "order": null,
      "overflow": null,
      "overflow_x": null,
      "overflow_y": null,
      "padding": null,
      "right": null,
      "top": null,
      "visibility": null,
      "width": null
     }
    },
    "2366347c35264320acc8cbcd0520eacb": {
     "model_module": "@jupyter-widgets/controls",
     "model_module_version": "1.5.0",
     "model_name": "DescriptionStyleModel",
     "state": {
      "_model_module": "@jupyter-widgets/controls",
      "_model_module_version": "1.5.0",
      "_model_name": "DescriptionStyleModel",
      "_view_count": null,
      "_view_module": "@jupyter-widgets/base",
      "_view_module_version": "1.2.0",
      "_view_name": "StyleView",
      "description_width": ""
     }
    },
    "23ffb962220041cd841740f7feeadf4a": {
     "model_module": "@jupyter-widgets/controls",
     "model_module_version": "1.5.0",
     "model_name": "FloatSliderModel",
     "state": {
      "_dom_classes": [],
      "_model_module": "@jupyter-widgets/controls",
      "_model_module_version": "1.5.0",
      "_model_name": "FloatSliderModel",
      "_view_count": null,
      "_view_module": "@jupyter-widgets/controls",
      "_view_module_version": "1.5.0",
      "_view_name": "FloatSliderView",
      "continuous_update": false,
      "description": "w1",
      "description_tooltip": null,
      "disabled": false,
      "layout": "IPY_MODEL_fde959e50d2b4c2da32e7125bbc3c86f",
      "max": 15,
      "min": -15,
      "orientation": "horizontal",
      "readout": true,
      "readout_format": ".2f",
      "step": 0.1,
      "style": "IPY_MODEL_af3a0ef87b2a4d3f939ffa777963c9bb",
      "value": 0
     }
    },
    "24c14c5fcda149b08048d1a5503b6c5e": {
     "model_module": "@jupyter-widgets/base",
     "model_module_version": "1.2.0",
     "model_name": "LayoutModel",
     "state": {
      "_model_module": "@jupyter-widgets/base",
      "_model_module_version": "1.2.0",
      "_model_name": "LayoutModel",
      "_view_count": null,
      "_view_module": "@jupyter-widgets/base",
      "_view_module_version": "1.2.0",
      "_view_name": "LayoutView",
      "align_content": null,
      "align_items": null,
      "align_self": null,
      "border": null,
      "bottom": null,
      "display": null,
      "flex": null,
      "flex_flow": null,
      "grid_area": null,
      "grid_auto_columns": null,
      "grid_auto_flow": null,
      "grid_auto_rows": null,
      "grid_column": null,
      "grid_gap": null,
      "grid_row": null,
      "grid_template_areas": null,
      "grid_template_columns": null,
      "grid_template_rows": null,
      "height": "350px",
      "justify_content": null,
      "justify_items": null,
      "left": null,
      "margin": null,
      "max_height": null,
      "max_width": null,
      "min_height": null,
      "min_width": null,
      "object_fit": null,
      "object_position": null,
      "order": null,
      "overflow": null,
      "overflow_x": null,
      "overflow_y": null,
      "padding": null,
      "right": null,
      "top": null,
      "visibility": null,
      "width": null
     }
    },
    "2e2de4181eab4718a117e6a3f27178d4": {
     "model_module": "@jupyter-widgets/controls",
     "model_module_version": "1.5.0",
     "model_name": "ButtonModel",
     "state": {
      "_dom_classes": [],
      "_model_module": "@jupyter-widgets/controls",
      "_model_module_version": "1.5.0",
      "_model_name": "ButtonModel",
      "_view_count": null,
      "_view_module": "@jupyter-widgets/controls",
      "_view_module_version": "1.5.0",
      "_view_name": "ButtonView",
      "button_style": "",
      "description": "Find Ridge Regression Solution",
      "disabled": false,
      "icon": "",
      "layout": "IPY_MODEL_d346d1a1f96a4355a32bbe40bed6a115",
      "style": "IPY_MODEL_a9ca5190e6df4cce985e2b9e3a7ecf89",
      "tooltip": ""
     }
    },
    "3fdd3fcf3b1543458654a92497ab9439": {
     "model_module": "@jupyter-widgets/output",
     "model_module_version": "1.0.0",
     "model_name": "OutputModel",
     "state": {
      "_dom_classes": [],
      "_model_module": "@jupyter-widgets/output",
      "_model_module_version": "1.0.0",
      "_model_name": "OutputModel",
      "_view_count": null,
      "_view_module": "@jupyter-widgets/output",
      "_view_module_version": "1.0.0",
      "_view_name": "OutputView",
      "layout": "IPY_MODEL_f16cde9a121b44ff85a0a05368f70be8",
      "msg_id": "",
      "outputs": [
       {
        "data": {
         "image/png": "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\n",
         "text/plain": "<Figure size 2160x504 with 3 Axes>"
        },
        "metadata": {
         "needs_background": "light"
        },
        "output_type": "display_data"
       }
      ]
     }
    },
    "41d56ee9a3c949ce84aa948dc96ac0c1": {
     "model_module": "@jupyter-widgets/controls",
     "model_module_version": "1.5.0",
     "model_name": "FloatLogSliderModel",
     "state": {
      "_dom_classes": [],
      "_model_module": "@jupyter-widgets/controls",
      "_model_module_version": "1.5.0",
      "_model_name": "FloatLogSliderModel",
      "_view_count": null,
      "_view_module": "@jupyter-widgets/controls",
      "_view_module_version": "1.5.0",
      "_view_name": "FloatLogSliderView",
      "base": 10,
      "continuous_update": true,
      "description": "lam",
      "description_tooltip": null,
      "disabled": false,
      "layout": "IPY_MODEL_7bf24c6eb85d44e38a32840eac8d0426",
      "max": 3,
      "min": -3,
      "orientation": "horizontal",
      "readout": true,
      "readout_format": ".3g",
      "step": 0.1,
      "style": "IPY_MODEL_9ce5eca5a95843cf9c730ca85e8ba218",
      "value": 0.001
     }
    },
    "4c4b3b3a104846948c945a98dedad65f": {
     "model_module": "@jupyter-widgets/base",
     "model_module_version": "1.2.0",
     "model_name": "LayoutModel",
     "state": {
      "_model_module": "@jupyter-widgets/base",
      "_model_module_version": "1.2.0",
      "_model_name": "LayoutModel",
      "_view_count": null,
      "_view_module": "@jupyter-widgets/base",
      "_view_module_version": "1.2.0",
      "_view_name": "LayoutView",
      "align_content": null,
      "align_items": null,
      "align_self": null,
      "border": null,
      "bottom": null,
      "display": null,
      "flex": null,
      "flex_flow": null,
      "grid_area": null,
      "grid_auto_columns": null,
      "grid_auto_flow": null,
      "grid_auto_rows": null,
      "grid_column": null,
      "grid_gap": null,
      "grid_row": null,
      "grid_template_areas": null,
      "grid_template_columns": null,
      "grid_template_rows": null,
      "height": null,
      "justify_content": null,
      "justify_items": null,
      "left": null,
      "margin": null,
      "max_height": null,
      "max_width": null,
      "min_height": null,
      "min_width": null,
      "object_fit": null,
      "object_position": null,
      "order": null,
      "overflow": null,
      "overflow_x": null,
      "overflow_y": null,
      "padding": null,
      "right": null,
      "top": null,
      "visibility": null,
      "width": null
     }
    },
    "4d13d0b5ddd7454c9eb727fe8966d978": {
     "model_module": "@jupyter-widgets/controls",
     "model_module_version": "1.5.0",
     "model_name": "ButtonModel",
     "state": {
      "_dom_classes": [],
      "_model_module": "@jupyter-widgets/controls",
      "_model_module_version": "1.5.0",
      "_model_name": "ButtonModel",
      "_view_count": null,
      "_view_module": "@jupyter-widgets/controls",
      "_view_module_version": "1.5.0",
      "_view_name": "ButtonView",
      "button_style": "",
      "description": "Find Ordinary Least Squares Solution",
      "disabled": false,
      "icon": "",
      "layout": "IPY_MODEL_0cb5e25b4ecc482d8ec32b417e8c8d60",
      "style": "IPY_MODEL_f1fd4c3a8c26479284e58cce4155411f",
      "tooltip": ""
     }
    },
    "4edb3f34fce9479387c98f4aabe099db": {
     "model_module": "@jupyter-widgets/controls",
     "model_module_version": "1.5.0",
     "model_name": "IntSliderModel",
     "state": {
      "_dom_classes": [],
      "_model_module": "@jupyter-widgets/controls",
      "_model_module_version": "1.5.0",
      "_model_name": "IntSliderModel",
      "_view_count": null,
      "_view_module": "@jupyter-widgets/controls",
      "_view_module_version": "1.5.0",
      "_view_name": "IntSliderView",
      "continuous_update": true,
      "description": "degree",
      "description_tooltip": null,
      "disabled": false,
      "layout": "IPY_MODEL_0cb7fa3582dd4725b5026f069148cf1c",
      "max": 30,
      "min": 0,
      "orientation": "horizontal",
      "readout": true,
      "readout_format": "d",
      "step": 1,
      "style": "IPY_MODEL_ed6219d34c4341c3865f97f96b535e75",
      "value": 0
     }
    },
    "55fd75897e47440eb4612f86253ae555": {
     "model_module": "@jupyter-widgets/controls",
     "model_module_version": "1.5.0",
     "model_name": "ButtonModel",
     "state": {
      "_dom_classes": [],
      "_model_module": "@jupyter-widgets/controls",
      "_model_module_version": "1.5.0",
      "_model_name": "ButtonModel",
      "_view_count": null,
      "_view_module": "@jupyter-widgets/controls",
      "_view_module_version": "1.5.0",
      "_view_name": "ButtonView",
      "button_style": "",
      "description": "Find Ordinary Least Squares Solution",
      "disabled": false,
      "icon": "",
      "layout": "IPY_MODEL_bb926de23b4f47a68b208a8236fc560c",
      "style": "IPY_MODEL_d4bf327d8b7c458d9b4fce03c2660fe2",
      "tooltip": ""
     }
    },
    "5850d874ce244c8e9a1b51700ce864e1": {
     "model_module": "@jupyter-widgets/base",
     "model_module_version": "1.2.0",
     "model_name": "LayoutModel",
     "state": {
      "_model_module": "@jupyter-widgets/base",
      "_model_module_version": "1.2.0",
      "_model_name": "LayoutModel",
      "_view_count": null,
      "_view_module": "@jupyter-widgets/base",
      "_view_module_version": "1.2.0",
      "_view_name": "LayoutView",
      "align_content": null,
      "align_items": null,
      "align_self": null,
      "border": null,
      "bottom": null,
      "display": null,
      "flex": null,
      "flex_flow": null,
      "grid_area": null,
      "grid_auto_columns": null,
      "grid_auto_flow": null,
      "grid_auto_rows": null,
      "grid_column": null,
      "grid_gap": null,
      "grid_row": null,
      "grid_template_areas": null,
      "grid_template_columns": null,
      "grid_template_rows": null,
      "height": null,
      "justify_content": null,
      "justify_items": null,
      "left": null,
      "margin": null,
      "max_height": null,
      "max_width": null,
      "min_height": null,
      "min_width": null,
      "object_fit": null,
      "object_position": null,
      "order": null,
      "overflow": null,
      "overflow_x": null,
      "overflow_y": null,
      "padding": null,
      "right": null,
      "top": null,
      "visibility": null,
      "width": null
     }
    },
    "66e35e08fda542479ad1bd8c491b8b0d": {
     "model_module": "@jupyter-widgets/controls",
     "model_module_version": "1.5.0",
     "model_name": "VBoxModel",
     "state": {
      "_dom_classes": [
       "widget-interact"
      ],
      "_model_module": "@jupyter-widgets/controls",
      "_model_module_version": "1.5.0",
      "_model_name": "VBoxModel",
      "_view_count": null,
      "_view_module": "@jupyter-widgets/controls",
      "_view_module_version": "1.5.0",
      "_view_name": "VBoxView",
      "box_style": "",
      "children": [
       "IPY_MODEL_fb5eb864e3434eac89097859b1e1b1a1",
       "IPY_MODEL_23ffb962220041cd841740f7feeadf4a",
       "IPY_MODEL_6f9cae53a37b4f7f94da39e281e53cd2",
       "IPY_MODEL_7168e306489046948e8cfa5eb2ab23c4",
       "IPY_MODEL_67cfe68233cd4d1bb7c498b38b0e1adf"
      ],
      "layout": "IPY_MODEL_d3c93750c7f544ac9b99d5f6b78d2d68"
     }
    },
    "67cfe68233cd4d1bb7c498b38b0e1adf": {
     "model_module": "@jupyter-widgets/output",
     "model_module_version": "1.0.0",
     "model_name": "OutputModel",
     "state": {
      "_dom_classes": [],
      "_model_module": "@jupyter-widgets/output",
      "_model_module_version": "1.0.0",
      "_model_name": "OutputModel",
      "_view_count": null,
      "_view_module": "@jupyter-widgets/output",
      "_view_module_version": "1.0.0",
      "_view_name": "OutputView",
      "layout": "IPY_MODEL_fb95fe6380a74003bf32017fb0ad8c26",
      "msg_id": "",
      "outputs": [
       {
        "data": {
         "image/png": "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\n",
         "text/plain": "<Figure size 2160x504 with 3 Axes>"
        },
        "metadata": {
         "needs_background": "light"
        },
        "output_type": "display_data"
       }
      ]
     }
    },
    "68c9e68dea54494ca76a6629a3d13766": {
     "model_module": "@jupyter-widgets/base",
     "model_module_version": "1.2.0",
     "model_name": "LayoutModel",
     "state": {
      "_model_module": "@jupyter-widgets/base",
      "_model_module_version": "1.2.0",
      "_model_name": "LayoutModel",
      "_view_count": null,
      "_view_module": "@jupyter-widgets/base",
      "_view_module_version": "1.2.0",
      "_view_name": "LayoutView",
      "align_content": null,
      "align_items": null,
      "align_self": null,
      "border": null,
      "bottom": null,
      "display": null,
      "flex": null,
      "flex_flow": null,
      "grid_area": null,
      "grid_auto_columns": null,
      "grid_auto_flow": null,
      "grid_auto_rows": null,
      "grid_column": null,
      "grid_gap": null,
      "grid_row": null,
      "grid_template_areas": null,
      "grid_template_columns": null,
      "grid_template_rows": null,
      "height": null,
      "justify_content": null,
      "justify_items": null,
      "left": null,
      "margin": null,
      "max_height": null,
      "max_width": null,
      "min_height": null,
      "min_width": null,
      "object_fit": null,
      "object_position": null,
      "order": null,
      "overflow": null,
      "overflow_x": null,
      "overflow_y": null,
      "padding": null,
      "right": null,
      "top": null,
      "visibility": null,
      "width": null
     }
    },
    "6daac88d1fc24da582800d220a0d07dc": {
     "model_module": "@jupyter-widgets/base",
     "model_module_version": "1.2.0",
     "model_name": "LayoutModel",
     "state": {
      "_model_module": "@jupyter-widgets/base",
      "_model_module_version": "1.2.0",
      "_model_name": "LayoutModel",
      "_view_count": null,
      "_view_module": "@jupyter-widgets/base",
      "_view_module_version": "1.2.0",
      "_view_name": "LayoutView",
      "align_content": null,
      "align_items": null,
      "align_self": null,
      "border": null,
      "bottom": null,
      "display": null,
      "flex": null,
      "flex_flow": null,
      "grid_area": null,
      "grid_auto_columns": null,
      "grid_auto_flow": null,
      "grid_auto_rows": null,
      "grid_column": null,
      "grid_gap": null,
      "grid_row": null,
      "grid_template_areas": null,
      "grid_template_columns": null,
      "grid_template_rows": null,
      "height": null,
      "justify_content": null,
      "justify_items": null,
      "left": null,
      "margin": null,
      "max_height": null,
      "max_width": null,
      "min_height": null,
      "min_width": null,
      "object_fit": null,
      "object_position": null,
      "order": null,
      "overflow": null,
      "overflow_x": null,
      "overflow_y": null,
      "padding": null,
      "right": null,
      "top": null,
      "visibility": null,
      "width": null
     }
    },
    "6f9cae53a37b4f7f94da39e281e53cd2": {
     "model_module": "@jupyter-widgets/controls",
     "model_module_version": "1.5.0",
     "model_name": "FloatLogSliderModel",
     "state": {
      "_dom_classes": [],
      "_model_module": "@jupyter-widgets/controls",
      "_model_module_version": "1.5.0",
      "_model_name": "FloatLogSliderModel",
      "_view_count": null,
      "_view_module": "@jupyter-widgets/controls",
      "_view_module_version": "1.5.0",
      "_view_name": "FloatLogSliderView",
      "base": 10,
      "continuous_update": false,
      "description": "lam",
      "description_tooltip": null,
      "disabled": false,
      "layout": "IPY_MODEL_0d1bf289727b44b7a0b281e145374d56",
      "max": 3,
      "min": -5,
      "orientation": "horizontal",
      "readout": true,
      "readout_format": ".3g",
      "step": 0.1,
      "style": "IPY_MODEL_e7e8b57ebde34b3398b6395f5b5fa025",
      "value": 1e-05
     }
    },
    "70211d0c8f33415cb70c607cd3f94306": {
     "model_module": "@jupyter-widgets/controls",
     "model_module_version": "1.5.0",
     "model_name": "FloatSliderModel",
     "state": {
      "_dom_classes": [],
      "_model_module": "@jupyter-widgets/controls",
      "_model_module_version": "1.5.0",
      "_model_name": "FloatSliderModel",
      "_view_count": null,
      "_view_module": "@jupyter-widgets/controls",
      "_view_module_version": "1.5.0",
      "_view_name": "FloatSliderView",
      "continuous_update": false,
      "description": "w0",
      "description_tooltip": null,
      "disabled": false,
      "layout": "IPY_MODEL_e7cfdde60843469db757bd990fdb1f1c",
      "max": 15,
      "min": -15,
      "orientation": "horizontal",
      "readout": true,
      "readout_format": ".2f",
      "step": 0.1,
      "style": "IPY_MODEL_c2a2c2802ed74736b2a409e85d1b3e6d",
      "value": 0
     }
    },
    "7168e306489046948e8cfa5eb2ab23c4": {
     "model_module": "@jupyter-widgets/controls",
     "model_module_version": "1.5.0",
     "model_name": "CheckboxModel",
     "state": {
      "_dom_classes": [],
      "_model_module": "@jupyter-widgets/controls",
      "_model_module_version": "1.5.0",
      "_model_name": "CheckboxModel",
      "_view_count": null,
      "_view_module": "@jupyter-widgets/controls",
      "_view_module_version": "1.5.0",
      "_view_name": "CheckboxView",
      "description": "show_path",
      "description_tooltip": null,
      "disabled": false,
      "indent": true,
      "layout": "IPY_MODEL_5850d874ce244c8e9a1b51700ce864e1",
      "style": "IPY_MODEL_9705418ececd4380b286146672349d4a",
      "value": false
     }
    },
    "7bf24c6eb85d44e38a32840eac8d0426": {
     "model_module": "@jupyter-widgets/base",
     "model_module_version": "1.2.0",
     "model_name": "LayoutModel",
     "state": {
      "_model_module": "@jupyter-widgets/base",
      "_model_module_version": "1.2.0",
      "_model_name": "LayoutModel",
      "_view_count": null,
      "_view_module": "@jupyter-widgets/base",
      "_view_module_version": "1.2.0",
      "_view_name": "LayoutView",
      "align_content": null,
      "align_items": null,
      "align_self": null,
      "border": null,
      "bottom": null,
      "display": null,
      "flex": null,
      "flex_flow": null,
      "grid_area": null,
      "grid_auto_columns": null,
      "grid_auto_flow": null,
      "grid_auto_rows": null,
      "grid_column": null,
      "grid_gap": null,
      "grid_row": null,
      "grid_template_areas": null,
      "grid_template_columns": null,
      "grid_template_rows": null,
      "height": null,
      "justify_content": null,
      "justify_items": null,
      "left": null,
      "margin": null,
      "max_height": null,
      "max_width": null,
      "min_height": null,
      "min_width": null,
      "object_fit": null,
      "object_position": null,
      "order": null,
      "overflow": null,
      "overflow_x": null,
      "overflow_y": null,
      "padding": null,
      "right": null,
      "top": null,
      "visibility": null,
      "width": null
     }
    },
    "8c109f14c285401b94827e8fc82b944f": {
     "model_module": "@jupyter-widgets/output",
     "model_module_version": "1.0.0",
     "model_name": "OutputModel",
     "state": {
      "_dom_classes": [],
      "_model_module": "@jupyter-widgets/output",
      "_model_module_version": "1.0.0",
      "_model_name": "OutputModel",
      "_view_count": null,
      "_view_module": "@jupyter-widgets/output",
      "_view_module_version": "1.0.0",
      "_view_name": "OutputView",
      "layout": "IPY_MODEL_18a1b55502af469282adb1419305a4ae",
      "msg_id": "",
      "outputs": [
       {
        "data": {
         "image/png": "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\n",
         "text/plain": "<Figure size 432x288 with 1 Axes>"
        },
        "metadata": {
         "needs_background": "light"
        },
        "output_type": "display_data"
       }
      ]
     }
    },
    "8c29a1c6b58e4cd08d442ab654dd650d": {
     "model_module": "@jupyter-widgets/base",
     "model_module_version": "1.2.0",
     "model_name": "LayoutModel",
     "state": {
      "_model_module": "@jupyter-widgets/base",
      "_model_module_version": "1.2.0",
      "_model_name": "LayoutModel",
      "_view_count": null,
      "_view_module": "@jupyter-widgets/base",
      "_view_module_version": "1.2.0",
      "_view_name": "LayoutView",
      "align_content": null,
      "align_items": null,
      "align_self": null,
      "border": null,
      "bottom": null,
      "display": null,
      "flex": null,
      "flex_flow": null,
      "grid_area": null,
      "grid_auto_columns": null,
      "grid_auto_flow": null,
      "grid_auto_rows": null,
      "grid_column": null,
      "grid_gap": null,
      "grid_row": null,
      "grid_template_areas": null,
      "grid_template_columns": null,
      "grid_template_rows": null,
      "height": null,
      "justify_content": null,
      "justify_items": null,
      "left": null,
      "margin": null,
      "max_height": null,
      "max_width": null,
      "min_height": null,
      "min_width": null,
      "object_fit": null,
      "object_position": null,
      "order": null,
      "overflow": null,
      "overflow_x": null,
      "overflow_y": null,
      "padding": null,
      "right": null,
      "top": null,
      "visibility": null,
      "width": "300px"
     }
    },
    "8c949bfaa50246fea16cc4905f8ca8af": {
     "model_module": "@jupyter-widgets/controls",
     "model_module_version": "1.5.0",
     "model_name": "HBoxModel",
     "state": {
      "_dom_classes": [],
      "_model_module": "@jupyter-widgets/controls",
      "_model_module_version": "1.5.0",
      "_model_name": "HBoxModel",
      "_view_count": null,
      "_view_module": "@jupyter-widgets/controls",
      "_view_module_version": "1.5.0",
      "_view_name": "HBoxView",
      "box_style": "",
      "children": [
       "IPY_MODEL_4d13d0b5ddd7454c9eb727fe8966d978",
       "IPY_MODEL_2e2de4181eab4718a117e6a3f27178d4"
      ],
      "layout": "IPY_MODEL_6daac88d1fc24da582800d220a0d07dc"
     }
    },
    "9705418ececd4380b286146672349d4a": {
     "model_module": "@jupyter-widgets/controls",
     "model_module_version": "1.5.0",
     "model_name": "DescriptionStyleModel",
     "state": {
      "_model_module": "@jupyter-widgets/controls",
      "_model_module_version": "1.5.0",
      "_model_name": "DescriptionStyleModel",
      "_view_count": null,
      "_view_module": "@jupyter-widgets/base",
      "_view_module_version": "1.2.0",
      "_view_name": "StyleView",
      "description_width": ""
     }
    },
    "988dd577938b4502810d9e827729ac6d": {
     "model_module": "@jupyter-widgets/controls",
     "model_module_version": "1.5.0",
     "model_name": "ButtonModel",
     "state": {
      "_dom_classes": [],
      "_model_module": "@jupyter-widgets/controls",
      "_model_module_version": "1.5.0",
      "_model_name": "ButtonModel",
      "_view_count": null,
      "_view_module": "@jupyter-widgets/controls",
      "_view_module_version": "1.5.0",
      "_view_name": "ButtonView",
      "button_style": "",
      "description": "Find Ridge Regression Solution",
      "disabled": false,
      "icon": "",
      "layout": "IPY_MODEL_8c29a1c6b58e4cd08d442ab654dd650d",
      "style": "IPY_MODEL_9f3dd8c178524efe98b926298cba6fdd",
      "tooltip": ""
     }
    },
    "9ce5eca5a95843cf9c730ca85e8ba218": {
     "model_module": "@jupyter-widgets/controls",
     "model_module_version": "1.5.0",
     "model_name": "SliderStyleModel",
     "state": {
      "_model_module": "@jupyter-widgets/controls",
      "_model_module_version": "1.5.0",
      "_model_name": "SliderStyleModel",
      "_view_count": null,
      "_view_module": "@jupyter-widgets/base",
      "_view_module_version": "1.2.0",
      "_view_name": "StyleView",
      "description_width": "",
      "handle_color": null
     }
    },
    "9d394213e6864e72bc27fb81e315e1b4": {
     "model_module": "@jupyter-widgets/base",
     "model_module_version": "1.2.0",
     "model_name": "LayoutModel",
     "state": {
      "_model_module": "@jupyter-widgets/base",
      "_model_module_version": "1.2.0",
      "_model_name": "LayoutModel",
      "_view_count": null,
      "_view_module": "@jupyter-widgets/base",
      "_view_module_version": "1.2.0",
      "_view_name": "LayoutView",
      "align_content": null,
      "align_items": null,
      "align_self": null,
      "border": null,
      "bottom": null,
      "display": null,
      "flex": null,
      "flex_flow": null,
      "grid_area": null,
      "grid_auto_columns": null,
      "grid_auto_flow": null,
      "grid_auto_rows": null,
      "grid_column": null,
      "grid_gap": null,
      "grid_row": null,
      "grid_template_areas": null,
      "grid_template_columns": null,
      "grid_template_rows": null,
      "height": null,
      "justify_content": null,
      "justify_items": null,
      "left": null,
      "margin": null,
      "max_height": null,
      "max_width": null,
      "min_height": null,
      "min_width": null,
      "object_fit": null,
      "object_position": null,
      "order": null,
      "overflow": null,
      "overflow_x": null,
      "overflow_y": null,
      "padding": null,
      "right": null,
      "top": null,
      "visibility": null,
      "width": null
     }
    },
    "9f3dd8c178524efe98b926298cba6fdd": {
     "model_module": "@jupyter-widgets/controls",
     "model_module_version": "1.5.0",
     "model_name": "ButtonStyleModel",
     "state": {
      "_model_module": "@jupyter-widgets/controls",
      "_model_module_version": "1.5.0",
      "_model_name": "ButtonStyleModel",
      "_view_count": null,
      "_view_module": "@jupyter-widgets/base",
      "_view_module_version": "1.2.0",
      "_view_name": "StyleView",
      "button_color": null,
      "font_weight": ""
     }
    },
    "a68fcfd763dd4314a08ade0172e0a2e4": {
     "model_module": "@jupyter-widgets/controls",
     "model_module_version": "1.5.0",
     "model_name": "FloatSliderModel",
     "state": {
      "_dom_classes": [],
      "_model_module": "@jupyter-widgets/controls",
      "_model_module_version": "1.5.0",
      "_model_name": "FloatSliderModel",
      "_view_count": null,
      "_view_module": "@jupyter-widgets/controls",
      "_view_module_version": "1.5.0",
      "_view_name": "FloatSliderView",
      "continuous_update": false,
      "description": "w1",
      "description_tooltip": null,
      "disabled": false,
      "layout": "IPY_MODEL_f00ec1d48a854a97a6b2a0edd0774124",
      "max": 15,
      "min": -15,
      "orientation": "horizontal",
      "readout": true,
      "readout_format": ".2f",
      "step": 0.1,
      "style": "IPY_MODEL_1fbab7fccf8c430c87dfe0fb5ba6768e",
      "value": 0
     }
    },
    "a9ca5190e6df4cce985e2b9e3a7ecf89": {
     "model_module": "@jupyter-widgets/controls",
     "model_module_version": "1.5.0",
     "model_name": "ButtonStyleModel",
     "state": {
      "_model_module": "@jupyter-widgets/controls",
      "_model_module_version": "1.5.0",
      "_model_name": "ButtonStyleModel",
      "_view_count": null,
      "_view_module": "@jupyter-widgets/base",
      "_view_module_version": "1.2.0",
      "_view_name": "StyleView",
      "button_color": null,
      "font_weight": ""
     }
    },
    "af3a0ef87b2a4d3f939ffa777963c9bb": {
     "model_module": "@jupyter-widgets/controls",
     "model_module_version": "1.5.0",
     "model_name": "SliderStyleModel",
     "state": {
      "_model_module": "@jupyter-widgets/controls",
      "_model_module_version": "1.5.0",
      "_model_name": "SliderStyleModel",
      "_view_count": null,
      "_view_module": "@jupyter-widgets/base",
      "_view_module_version": "1.2.0",
      "_view_name": "StyleView",
      "description_width": "",
      "handle_color": null
     }
    },
    "bb926de23b4f47a68b208a8236fc560c": {
     "model_module": "@jupyter-widgets/base",
     "model_module_version": "1.2.0",
     "model_name": "LayoutModel",
     "state": {
      "_model_module": "@jupyter-widgets/base",
      "_model_module_version": "1.2.0",
      "_model_name": "LayoutModel",
      "_view_count": null,
      "_view_module": "@jupyter-widgets/base",
      "_view_module_version": "1.2.0",
      "_view_name": "LayoutView",
      "align_content": null,
      "align_items": null,
      "align_self": null,
      "border": null,
      "bottom": null,
      "display": null,
      "flex": null,
      "flex_flow": null,
      "grid_area": null,
      "grid_auto_columns": null,
      "grid_auto_flow": null,
      "grid_auto_rows": null,
      "grid_column": null,
      "grid_gap": null,
      "grid_row": null,
      "grid_template_areas": null,
      "grid_template_columns": null,
      "grid_template_rows": null,
      "height": null,
      "justify_content": null,
      "justify_items": null,
      "left": null,
      "margin": null,
      "max_height": null,
      "max_width": null,
      "min_height": null,
      "min_width": null,
      "object_fit": null,
      "object_position": null,
      "order": null,
      "overflow": null,
      "overflow_x": null,
      "overflow_y": null,
      "padding": null,
      "right": null,
      "top": null,
      "visibility": null,
      "width": "300px"
     }
    },
    "c2a2c2802ed74736b2a409e85d1b3e6d": {
     "model_module": "@jupyter-widgets/controls",
     "model_module_version": "1.5.0",
     "model_name": "SliderStyleModel",
     "state": {
      "_model_module": "@jupyter-widgets/controls",
      "_model_module_version": "1.5.0",
      "_model_name": "SliderStyleModel",
      "_view_count": null,
      "_view_module": "@jupyter-widgets/base",
      "_view_module_version": "1.2.0",
      "_view_name": "StyleView",
      "description_width": "",
      "handle_color": null
     }
    },
    "cf68191fd71645d89521eda658944361": {
     "model_module": "@jupyter-widgets/controls",
     "model_module_version": "1.5.0",
     "model_name": "CheckboxModel",
     "state": {
      "_dom_classes": [],
      "_model_module": "@jupyter-widgets/controls",
      "_model_module_version": "1.5.0",
      "_model_name": "CheckboxModel",
      "_view_count": null,
      "_view_module": "@jupyter-widgets/controls",
      "_view_module_version": "1.5.0",
      "_view_name": "CheckboxView",
      "description": "show_path",
      "description_tooltip": null,
      "disabled": false,
      "indent": true,
      "layout": "IPY_MODEL_68c9e68dea54494ca76a6629a3d13766",
      "style": "IPY_MODEL_2366347c35264320acc8cbcd0520eacb",
      "value": false
     }
    },
    "d1eedf497a714eaab2a628daa0267832": {
     "model_module": "@jupyter-widgets/controls",
     "model_module_version": "1.5.0",
     "model_name": "SliderStyleModel",
     "state": {
      "_model_module": "@jupyter-widgets/controls",
      "_model_module_version": "1.5.0",
      "_model_name": "SliderStyleModel",
      "_view_count": null,
      "_view_module": "@jupyter-widgets/base",
      "_view_module_version": "1.2.0",
      "_view_name": "StyleView",
      "description_width": "",
      "handle_color": null
     }
    },
    "d346d1a1f96a4355a32bbe40bed6a115": {
     "model_module": "@jupyter-widgets/base",
     "model_module_version": "1.2.0",
     "model_name": "LayoutModel",
     "state": {
      "_model_module": "@jupyter-widgets/base",
      "_model_module_version": "1.2.0",
      "_model_name": "LayoutModel",
      "_view_count": null,
      "_view_module": "@jupyter-widgets/base",
      "_view_module_version": "1.2.0",
      "_view_name": "LayoutView",
      "align_content": null,
      "align_items": null,
      "align_self": null,
      "border": null,
      "bottom": null,
      "display": null,
      "flex": null,
      "flex_flow": null,
      "grid_area": null,
      "grid_auto_columns": null,
      "grid_auto_flow": null,
      "grid_auto_rows": null,
      "grid_column": null,
      "grid_gap": null,
      "grid_row": null,
      "grid_template_areas": null,
      "grid_template_columns": null,
      "grid_template_rows": null,
      "height": null,
      "justify_content": null,
      "justify_items": null,
      "left": null,
      "margin": null,
      "max_height": null,
      "max_width": null,
      "min_height": null,
      "min_width": null,
      "object_fit": null,
      "object_position": null,
      "order": null,
      "overflow": null,
      "overflow_x": null,
      "overflow_y": null,
      "padding": null,
      "right": null,
      "top": null,
      "visibility": null,
      "width": "300px"
     }
    },
    "d3c93750c7f544ac9b99d5f6b78d2d68": {
     "model_module": "@jupyter-widgets/base",
     "model_module_version": "1.2.0",
     "model_name": "LayoutModel",
     "state": {
      "_model_module": "@jupyter-widgets/base",
      "_model_module_version": "1.2.0",
      "_model_name": "LayoutModel",
      "_view_count": null,
      "_view_module": "@jupyter-widgets/base",
      "_view_module_version": "1.2.0",
      "_view_name": "LayoutView",
      "align_content": null,
      "align_items": null,
      "align_self": null,
      "border": null,
      "bottom": null,
      "display": null,
      "flex": null,
      "flex_flow": null,
      "grid_area": null,
      "grid_auto_columns": null,
      "grid_auto_flow": null,
      "grid_auto_rows": null,
      "grid_column": null,
      "grid_gap": null,
      "grid_row": null,
      "grid_template_areas": null,
      "grid_template_columns": null,
      "grid_template_rows": null,
      "height": null,
      "justify_content": null,
      "justify_items": null,
      "left": null,
      "margin": null,
      "max_height": null,
      "max_width": null,
      "min_height": null,
      "min_width": null,
      "object_fit": null,
      "object_position": null,
      "order": null,
      "overflow": null,
      "overflow_x": null,
      "overflow_y": null,
      "padding": null,
      "right": null,
      "top": null,
      "visibility": null,
      "width": null
     }
    },
    "d4bf327d8b7c458d9b4fce03c2660fe2": {
     "model_module": "@jupyter-widgets/controls",
     "model_module_version": "1.5.0",
     "model_name": "ButtonStyleModel",
     "state": {
      "_model_module": "@jupyter-widgets/controls",
      "_model_module_version": "1.5.0",
      "_model_name": "ButtonStyleModel",
      "_view_count": null,
      "_view_module": "@jupyter-widgets/base",
      "_view_module_version": "1.2.0",
      "_view_name": "StyleView",
      "button_color": null,
      "font_weight": ""
     }
    },
    "d768a1f8db904793ae173c35feb8196b": {
     "model_module": "@jupyter-widgets/controls",
     "model_module_version": "1.5.0",
     "model_name": "FloatLogSliderModel",
     "state": {
      "_dom_classes": [],
      "_model_module": "@jupyter-widgets/controls",
      "_model_module_version": "1.5.0",
      "_model_name": "FloatLogSliderModel",
      "_view_count": null,
      "_view_module": "@jupyter-widgets/controls",
      "_view_module_version": "1.5.0",
      "_view_name": "FloatLogSliderView",
      "base": 10,
      "continuous_update": false,
      "description": "lam",
      "description_tooltip": null,
      "disabled": false,
      "layout": "IPY_MODEL_ed79309afbbf47ce86f11e0791b6aab2",
      "max": 3,
      "min": -5,
      "orientation": "horizontal",
      "readout": true,
      "readout_format": ".3g",
      "step": 0.1,
      "style": "IPY_MODEL_d1eedf497a714eaab2a628daa0267832",
      "value": 1e-05
     }
    },
    "d7e1d873c09a405ba564a8dc9928bd07": {
     "model_module": "@jupyter-widgets/controls",
     "model_module_version": "1.5.0",
     "model_name": "VBoxModel",
     "state": {
      "_dom_classes": [
       "widget-interact"
      ],
      "_model_module": "@jupyter-widgets/controls",
      "_model_module_version": "1.5.0",
      "_model_name": "VBoxModel",
      "_view_count": null,
      "_view_module": "@jupyter-widgets/controls",
      "_view_module_version": "1.5.0",
      "_view_name": "VBoxView",
      "box_style": "",
      "children": [
       "IPY_MODEL_70211d0c8f33415cb70c607cd3f94306",
       "IPY_MODEL_a68fcfd763dd4314a08ade0172e0a2e4",
       "IPY_MODEL_d768a1f8db904793ae173c35feb8196b",
       "IPY_MODEL_cf68191fd71645d89521eda658944361",
       "IPY_MODEL_3fdd3fcf3b1543458654a92497ab9439"
      ],
      "layout": "IPY_MODEL_2363e657ff0246cdb350ab8ae8f128aa"
     }
    },
    "e69498961ea04116a5f7a4150c887c00": {
     "model_module": "@jupyter-widgets/controls",
     "model_module_version": "1.5.0",
     "model_name": "VBoxModel",
     "state": {
      "_dom_classes": [
       "widget-interact"
      ],
      "_model_module": "@jupyter-widgets/controls",
      "_model_module_version": "1.5.0",
      "_model_name": "VBoxModel",
      "_view_count": null,
      "_view_module": "@jupyter-widgets/controls",
      "_view_module_version": "1.5.0",
      "_view_name": "VBoxView",
      "box_style": "",
      "children": [
       "IPY_MODEL_41d56ee9a3c949ce84aa948dc96ac0c1",
       "IPY_MODEL_fcf7e099483946cd87e2cb2c35f06399"
      ],
      "layout": "IPY_MODEL_9d394213e6864e72bc27fb81e315e1b4"
     }
    },
    "e7cfdde60843469db757bd990fdb1f1c": {
     "model_module": "@jupyter-widgets/base",
     "model_module_version": "1.2.0",
     "model_name": "LayoutModel",
     "state": {
      "_model_module": "@jupyter-widgets/base",
      "_model_module_version": "1.2.0",
      "_model_name": "LayoutModel",
      "_view_count": null,
      "_view_module": "@jupyter-widgets/base",
      "_view_module_version": "1.2.0",
      "_view_name": "LayoutView",
      "align_content": null,
      "align_items": null,
      "align_self": null,
      "border": null,
      "bottom": null,
      "display": null,
      "flex": null,
      "flex_flow": null,
      "grid_area": null,
      "grid_auto_columns": null,
      "grid_auto_flow": null,
      "grid_auto_rows": null,
      "grid_column": null,
      "grid_gap": null,
      "grid_row": null,
      "grid_template_areas": null,
      "grid_template_columns": null,
      "grid_template_rows": null,
      "height": null,
      "justify_content": null,
      "justify_items": null,
      "left": null,
      "margin": null,
      "max_height": null,
      "max_width": null,
      "min_height": null,
      "min_width": null,
      "object_fit": null,
      "object_position": null,
      "order": null,
      "overflow": null,
      "overflow_x": null,
      "overflow_y": null,
      "padding": null,
      "right": null,
      "top": null,
      "visibility": null,
      "width": null
     }
    },
    "e7e8b57ebde34b3398b6395f5b5fa025": {
     "model_module": "@jupyter-widgets/controls",
     "model_module_version": "1.5.0",
     "model_name": "SliderStyleModel",
     "state": {
      "_model_module": "@jupyter-widgets/controls",
      "_model_module_version": "1.5.0",
      "_model_name": "SliderStyleModel",
      "_view_count": null,
      "_view_module": "@jupyter-widgets/base",
      "_view_module_version": "1.2.0",
      "_view_name": "StyleView",
      "description_width": "",
      "handle_color": null
     }
    },
    "ed6219d34c4341c3865f97f96b535e75": {
     "model_module": "@jupyter-widgets/controls",
     "model_module_version": "1.5.0",
     "model_name": "SliderStyleModel",
     "state": {
      "_model_module": "@jupyter-widgets/controls",
      "_model_module_version": "1.5.0",
      "_model_name": "SliderStyleModel",
      "_view_count": null,
      "_view_module": "@jupyter-widgets/base",
      "_view_module_version": "1.2.0",
      "_view_name": "StyleView",
      "description_width": "",
      "handle_color": null
     }
    },
    "ed79309afbbf47ce86f11e0791b6aab2": {
     "model_module": "@jupyter-widgets/base",
     "model_module_version": "1.2.0",
     "model_name": "LayoutModel",
     "state": {
      "_model_module": "@jupyter-widgets/base",
      "_model_module_version": "1.2.0",
      "_model_name": "LayoutModel",
      "_view_count": null,
      "_view_module": "@jupyter-widgets/base",
      "_view_module_version": "1.2.0",
      "_view_name": "LayoutView",
      "align_content": null,
      "align_items": null,
      "align_self": null,
      "border": null,
      "bottom": null,
      "display": null,
      "flex": null,
      "flex_flow": null,
      "grid_area": null,
      "grid_auto_columns": null,
      "grid_auto_flow": null,
      "grid_auto_rows": null,
      "grid_column": null,
      "grid_gap": null,
      "grid_row": null,
      "grid_template_areas": null,
      "grid_template_columns": null,
      "grid_template_rows": null,
      "height": null,
      "justify_content": null,
      "justify_items": null,
      "left": null,
      "margin": null,
      "max_height": null,
      "max_width": null,
      "min_height": null,
      "min_width": null,
      "object_fit": null,
      "object_position": null,
      "order": null,
      "overflow": null,
      "overflow_x": null,
      "overflow_y": null,
      "padding": null,
      "right": null,
      "top": null,
      "visibility": null,
      "width": null
     }
    },
    "f00ec1d48a854a97a6b2a0edd0774124": {
     "model_module": "@jupyter-widgets/base",
     "model_module_version": "1.2.0",
     "model_name": "LayoutModel",
     "state": {
      "_model_module": "@jupyter-widgets/base",
      "_model_module_version": "1.2.0",
      "_model_name": "LayoutModel",
      "_view_count": null,
      "_view_module": "@jupyter-widgets/base",
      "_view_module_version": "1.2.0",
      "_view_name": "LayoutView",
      "align_content": null,
      "align_items": null,
      "align_self": null,
      "border": null,
      "bottom": null,
      "display": null,
      "flex": null,
      "flex_flow": null,
      "grid_area": null,
      "grid_auto_columns": null,
      "grid_auto_flow": null,
      "grid_auto_rows": null,
      "grid_column": null,
      "grid_gap": null,
      "grid_row": null,
      "grid_template_areas": null,
      "grid_template_columns": null,
      "grid_template_rows": null,
      "height": null,
      "justify_content": null,
      "justify_items": null,
      "left": null,
      "margin": null,
      "max_height": null,
      "max_width": null,
      "min_height": null,
      "min_width": null,
      "object_fit": null,
      "object_position": null,
      "order": null,
      "overflow": null,
      "overflow_x": null,
      "overflow_y": null,
      "padding": null,
      "right": null,
      "top": null,
      "visibility": null,
      "width": null
     }
    },
    "f16cde9a121b44ff85a0a05368f70be8": {
     "model_module": "@jupyter-widgets/base",
     "model_module_version": "1.2.0",
     "model_name": "LayoutModel",
     "state": {
      "_model_module": "@jupyter-widgets/base",
      "_model_module_version": "1.2.0",
      "_model_name": "LayoutModel",
      "_view_count": null,
      "_view_module": "@jupyter-widgets/base",
      "_view_module_version": "1.2.0",
      "_view_name": "LayoutView",
      "align_content": null,
      "align_items": null,
      "align_self": null,
      "border": null,
      "bottom": null,
      "display": null,
      "flex": null,
      "flex_flow": null,
      "grid_area": null,
      "grid_auto_columns": null,
      "grid_auto_flow": null,
      "grid_auto_rows": null,
      "grid_column": null,
      "grid_gap": null,
      "grid_row": null,
      "grid_template_areas": null,
      "grid_template_columns": null,
      "grid_template_rows": null,
      "height": "800px",
      "justify_content": null,
      "justify_items": null,
      "left": null,
      "margin": null,
      "max_height": null,
      "max_width": null,
      "min_height": null,
      "min_width": null,
      "object_fit": null,
      "object_position": null,
      "order": null,
      "overflow": null,
      "overflow_x": null,
      "overflow_y": null,
      "padding": null,
      "right": null,
      "top": null,
      "visibility": null,
      "width": null
     }
    },
    "f1fd4c3a8c26479284e58cce4155411f": {
     "model_module": "@jupyter-widgets/controls",
     "model_module_version": "1.5.0",
     "model_name": "ButtonStyleModel",
     "state": {
      "_model_module": "@jupyter-widgets/controls",
      "_model_module_version": "1.5.0",
      "_model_name": "ButtonStyleModel",
      "_view_count": null,
      "_view_module": "@jupyter-widgets/base",
      "_view_module_version": "1.2.0",
      "_view_name": "StyleView",
      "button_color": null,
      "font_weight": ""
     }
    },
    "fb5eb864e3434eac89097859b1e1b1a1": {
     "model_module": "@jupyter-widgets/controls",
     "model_module_version": "1.5.0",
     "model_name": "FloatSliderModel",
     "state": {
      "_dom_classes": [],
      "_model_module": "@jupyter-widgets/controls",
      "_model_module_version": "1.5.0",
      "_model_name": "FloatSliderModel",
      "_view_count": null,
      "_view_module": "@jupyter-widgets/controls",
      "_view_module_version": "1.5.0",
      "_view_name": "FloatSliderView",
      "continuous_update": false,
      "description": "w0",
      "description_tooltip": null,
      "disabled": false,
      "layout": "IPY_MODEL_4c4b3b3a104846948c945a98dedad65f",
      "max": 15,
      "min": -15,
      "orientation": "horizontal",
      "readout": true,
      "readout_format": ".2f",
      "step": 0.1,
      "style": "IPY_MODEL_01341079601a4a3a969c8e5f341cbe9e",
      "value": 0
     }
    },
    "fb95fe6380a74003bf32017fb0ad8c26": {
     "model_module": "@jupyter-widgets/base",
     "model_module_version": "1.2.0",
     "model_name": "LayoutModel",
     "state": {
      "_model_module": "@jupyter-widgets/base",
      "_model_module_version": "1.2.0",
      "_model_name": "LayoutModel",
      "_view_count": null,
      "_view_module": "@jupyter-widgets/base",
      "_view_module_version": "1.2.0",
      "_view_name": "LayoutView",
      "align_content": null,
      "align_items": null,
      "align_self": null,
      "border": null,
      "bottom": null,
      "display": null,
      "flex": null,
      "flex_flow": null,
      "grid_area": null,
      "grid_auto_columns": null,
      "grid_auto_flow": null,
      "grid_auto_rows": null,
      "grid_column": null,
      "grid_gap": null,
      "grid_row": null,
      "grid_template_areas": null,
      "grid_template_columns": null,
      "grid_template_rows": null,
      "height": "800px",
      "justify_content": null,
      "justify_items": null,
      "left": null,
      "margin": null,
      "max_height": null,
      "max_width": null,
      "min_height": null,
      "min_width": null,
      "object_fit": null,
      "object_position": null,
      "order": null,
      "overflow": null,
      "overflow_x": null,
      "overflow_y": null,
      "padding": null,
      "right": null,
      "top": null,
      "visibility": null,
      "width": null
     }
    },
    "fcf7e099483946cd87e2cb2c35f06399": {
     "model_module": "@jupyter-widgets/output",
     "model_module_version": "1.0.0",
     "model_name": "OutputModel",
     "state": {
      "_dom_classes": [],
      "_model_module": "@jupyter-widgets/output",
      "_model_module_version": "1.0.0",
      "_model_name": "OutputModel",
      "_view_count": null,
      "_view_module": "@jupyter-widgets/output",
      "_view_module_version": "1.0.0",
      "_view_name": "OutputView",
      "layout": "IPY_MODEL_24c14c5fcda149b08048d1a5503b6c5e",
      "msg_id": "",
      "outputs": [
       {
        "data": {
         "image/png": "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\n",
         "text/plain": "<Figure size 432x288 with 1 Axes>"
        },
        "metadata": {
         "needs_background": "light"
        },
        "output_type": "display_data"
       }
      ]
     }
    },
    "fde959e50d2b4c2da32e7125bbc3c86f": {
     "model_module": "@jupyter-widgets/base",
     "model_module_version": "1.2.0",
     "model_name": "LayoutModel",
     "state": {
      "_model_module": "@jupyter-widgets/base",
      "_model_module_version": "1.2.0",
      "_model_name": "LayoutModel",
      "_view_count": null,
      "_view_module": "@jupyter-widgets/base",
      "_view_module_version": "1.2.0",
      "_view_name": "LayoutView",
      "align_content": null,
      "align_items": null,
      "align_self": null,
      "border": null,
      "bottom": null,
      "display": null,
      "flex": null,
      "flex_flow": null,
      "grid_area": null,
      "grid_auto_columns": null,
      "grid_auto_flow": null,
      "grid_auto_rows": null,
      "grid_column": null,
      "grid_gap": null,
      "grid_row": null,
      "grid_template_areas": null,
      "grid_template_columns": null,
      "grid_template_rows": null,
      "height": null,
      "justify_content": null,
      "justify_items": null,
      "left": null,
      "margin": null,
      "max_height": null,
      "max_width": null,
      "min_height": null,
      "min_width": null,
      "object_fit": null,
      "object_position": null,
      "order": null,
      "overflow": null,
      "overflow_x": null,
      "overflow_y": null,
      "padding": null,
      "right": null,
      "top": null,
      "visibility": null,
      "width": null
     }
    },
    "ff8c259966b6477fb4ccccce3c638358": {
     "model_module": "@jupyter-widgets/controls",
     "model_module_version": "1.5.0",
     "model_name": "HBoxModel",
     "state": {
      "_dom_classes": [],
      "_model_module": "@jupyter-widgets/controls",
      "_model_module_version": "1.5.0",
      "_model_name": "HBoxModel",
      "_view_count": null,
      "_view_module": "@jupyter-widgets/controls",
      "_view_module_version": "1.5.0",
      "_view_name": "HBoxView",
      "box_style": "",
      "children": [
       "IPY_MODEL_55fd75897e47440eb4612f86253ae555",
       "IPY_MODEL_988dd577938b4502810d9e827729ac6d"
      ],
      "layout": "IPY_MODEL_135af024e2d04fcba2fbc1983749551f"
     }
    },
    "ffeccc5072064a27b6ecfd6cde450d06": {
     "model_module": "@jupyter-widgets/base",
     "model_module_version": "1.2.0",
     "model_name": "LayoutModel",
     "state": {
      "_model_module": "@jupyter-widgets/base",
      "_model_module_version": "1.2.0",
      "_model_name": "LayoutModel",
      "_view_count": null,
      "_view_module": "@jupyter-widgets/base",
      "_view_module_version": "1.2.0",
      "_view_name": "LayoutView",
      "align_content": null,
      "align_items": null,
      "align_self": null,
      "border": null,
      "bottom": null,
      "display": null,
      "flex": null,
      "flex_flow": null,
      "grid_area": null,
      "grid_auto_columns": null,
      "grid_auto_flow": null,
      "grid_auto_rows": null,
      "grid_column": null,
      "grid_gap": null,
      "grid_row": null,
      "grid_template_areas": null,
      "grid_template_columns": null,
      "grid_template_rows": null,
      "height": null,
      "justify_content": null,
      "justify_items": null,
      "left": null,
      "margin": null,
      "max_height": null,
      "max_width": null,
      "min_height": null,
      "min_width": null,
      "object_fit": null,
      "object_position": null,
      "order": null,
      "overflow": null,
      "overflow_x": null,
      "overflow_y": null,
      "padding": null,
      "right": null,
      "top": null,
      "visibility": null,
      "width": null
     }
    }
   }
  }
 },
 "nbformat": 4,
 "nbformat_minor": 1
}
