{
 "cells": [
  {
   "cell_type": "markdown",
   "metadata": {},
   "source": [
    "<img style=\"float: right;\" src=\"./images/Asteroids.gif\" width=\"350\"/>\n",
    "\n",
    "# Protect Earth!\n",
    "\n",
    "* Earth is in danger!\n",
    "* 6 Potentially Hazardous Asteroids (PHAs) are going to hit the Earth!\n",
    "* You have been recruited to use your python skills to help save the Earth!\n",
    "* All equations at bottom of notebook\n",
    "  * [Astropy Units](http://docs.astropy.org/en/stable/units/index.html#module-astropy.units.si)\n",
    "  * [Astropy Constants](https://docs.astropy.org/en/stable/constants/#module-astropy.constants)\n",
    "  * [Numpy Math Functions](https://docs.scipy.org/doc/numpy-1.13.0/reference/routines.math.html)"
   ]
  },
  {
   "cell_type": "code",
   "execution_count": null,
   "metadata": {
    "jupyter": {
     "outputs_hidden": false
    }
   },
   "outputs": [],
   "source": [
    "import numpy as np\n",
    "\n",
    "from astropy import units as u\n",
    "from astropy import constants as const\n",
    "from astropy.table import QTable"
   ]
  },
  {
   "cell_type": "markdown",
   "metadata": {},
   "source": [
    "## Read in the dataset `./Data/PHA_W21.csv` into a Astropy `QTable`"
   ]
  },
  {
   "cell_type": "code",
   "execution_count": null,
   "metadata": {
    "jupyter": {
     "outputs_hidden": false
    }
   },
   "outputs": [],
   "source": []
  },
  {
   "cell_type": "markdown",
   "metadata": {},
   "source": [
    "## Assign units to the columns that need them"
   ]
  },
  {
   "cell_type": "code",
   "execution_count": null,
   "metadata": {
    "jupyter": {
     "outputs_hidden": false
    }
   },
   "outputs": [],
   "source": []
  },
  {
   "cell_type": "markdown",
   "metadata": {},
   "source": [
    "---\n",
    "\n",
    "## Determine how many nuclear weapons, each with a yield of 1 ton-TNT, will be needed to destroy each of the PHAs.\n",
    "\n",
    "* Write the function `number_weapons`\n",
    "* Each weapon delivers 1 ton-TNT energy\n",
    "* 1 ton-TNT $= 4.18 \\times 10^9$ J\n",
    "* Number_Weapons has no units, just the number (or fraction of) weapons"
   ]
  },
  {
   "cell_type": "markdown",
   "metadata": {},
   "source": [
    "---\n",
    "\n",
    "`number_weapons`"
   ]
  },
  {
   "cell_type": "code",
   "execution_count": null,
   "metadata": {
    "jupyter": {
     "outputs_hidden": false
    }
   },
   "outputs": [],
   "source": [
    "# Write a function\n"
   ]
  },
  {
   "cell_type": "code",
   "execution_count": null,
   "metadata": {
    "jupyter": {
     "outputs_hidden": false
    }
   },
   "outputs": [],
   "source": [
    "# Apply the function\n"
   ]
  },
  {
   "cell_type": "code",
   "execution_count": null,
   "metadata": {
    "jupyter": {
     "outputs_hidden": false
    }
   },
   "outputs": [],
   "source": [
    "# Add the data column to the table\n"
   ]
  },
  {
   "cell_type": "markdown",
   "metadata": {},
   "source": [
    "---"
   ]
  },
  {
   "cell_type": "markdown",
   "metadata": {},
   "source": [
    "<img style=\"float: right;\" src=\"./images/GlaDos2.gif\" width=\"250\"/>\n",
    "\n",
    "# Hitting Earth\n",
    "\n",
    "* You failed to destroy all the asteroids!\n",
    "* [But there's no sense crying over every mistake](https://www.youtube.com/watch?v=Y6ljFaKRTrI)\n",
    "* There is still science to be done!"
   ]
  },
  {
   "cell_type": "markdown",
   "metadata": {},
   "source": [
    "---\n",
    "\n",
    "## Determine the orbital speed of each of the PHAs at **r** = 1 AU.\n",
    "\n",
    "* Write a function: `find_orbital_speed`\n",
    "* Make sure you use units.\n",
    "* Express your answer [SI](https://en.wikipedia.org/wiki/International_System_of_Units) units.\n",
    "* Add a column `Orbital_Speed` to the table."
   ]
  },
  {
   "cell_type": "code",
   "execution_count": null,
   "metadata": {
    "jupyter": {
     "outputs_hidden": false
    }
   },
   "outputs": [],
   "source": [
    "# Write Function\n"
   ]
  },
  {
   "cell_type": "code",
   "execution_count": null,
   "metadata": {
    "jupyter": {
     "outputs_hidden": false
    }
   },
   "outputs": [],
   "source": [
    "# Use Function\n"
   ]
  },
  {
   "cell_type": "code",
   "execution_count": null,
   "metadata": {
    "jupyter": {
     "outputs_hidden": false
    }
   },
   "outputs": [],
   "source": [
    "# Add column\n"
   ]
  },
  {
   "cell_type": "markdown",
   "metadata": {},
   "source": [
    "---\n",
    "\n",
    "## Determine the encounter speed of each of the PHAs.\n",
    "\n",
    "* Write a function: `find_encounter_speed`\n",
    "* Make sure you use units.\n",
    "* Express your answer [SI](https://en.wikipedia.org/wiki/International_System_of_Units) units.\n",
    "* Add a column `Encounter_Speed` to the table."
   ]
  },
  {
   "cell_type": "code",
   "execution_count": null,
   "metadata": {
    "jupyter": {
     "outputs_hidden": false
    }
   },
   "outputs": [],
   "source": [
    "# Write Function\n"
   ]
  },
  {
   "cell_type": "code",
   "execution_count": null,
   "metadata": {
    "jupyter": {
     "outputs_hidden": false
    }
   },
   "outputs": [],
   "source": [
    "# Use Function\n"
   ]
  },
  {
   "cell_type": "code",
   "execution_count": null,
   "metadata": {
    "jupyter": {
     "outputs_hidden": false
    }
   },
   "outputs": [],
   "source": [
    "# Add column\n"
   ]
  },
  {
   "cell_type": "markdown",
   "metadata": {},
   "source": [
    "---\n",
    "\n",
    "## Determine the impact speed of each of the PHAs.\n",
    "\n",
    "* Write a function: `find_impact_speed`\n",
    "* Make sure you use units.\n",
    "* Express your answer [SI](https://en.wikipedia.org/wiki/International_System_of_Units) units.\n",
    "* Add a column `Impact_Speed` to the table."
   ]
  },
  {
   "cell_type": "code",
   "execution_count": null,
   "metadata": {
    "jupyter": {
     "outputs_hidden": false
    }
   },
   "outputs": [],
   "source": [
    "# Write Function\n"
   ]
  },
  {
   "cell_type": "code",
   "execution_count": null,
   "metadata": {
    "jupyter": {
     "outputs_hidden": false
    }
   },
   "outputs": [],
   "source": [
    "# Use Function\n"
   ]
  },
  {
   "cell_type": "code",
   "execution_count": null,
   "metadata": {
    "jupyter": {
     "outputs_hidden": false
    }
   },
   "outputs": [],
   "source": [
    "# Add column\n"
   ]
  },
  {
   "cell_type": "markdown",
   "metadata": {},
   "source": [
    "---\n",
    "\n",
    "## Determine the kinetic energy each PHA would have if they impacted the surface of the Earth.\n",
    "\n",
    "* Write a function: `find_impact_ke`\n",
    "* Make sure you use units.\n",
    "* Express your answer [SI](https://en.wikipedia.org/wiki/International_System_of_Units) units.\n",
    "* Add a column `Impact_KE` to the table."
   ]
  },
  {
   "cell_type": "code",
   "execution_count": null,
   "metadata": {
    "jupyter": {
     "outputs_hidden": false
    }
   },
   "outputs": [],
   "source": [
    "# Write Function\n"
   ]
  },
  {
   "cell_type": "code",
   "execution_count": null,
   "metadata": {
    "jupyter": {
     "outputs_hidden": false
    }
   },
   "outputs": [],
   "source": [
    "# Use Function\n"
   ]
  },
  {
   "cell_type": "code",
   "execution_count": null,
   "metadata": {
    "jupyter": {
     "outputs_hidden": false
    }
   },
   "outputs": [],
   "source": [
    "# Add column\n"
   ]
  },
  {
   "cell_type": "markdown",
   "metadata": {},
   "source": [
    "---\n",
    "\n",
    "## Determine the Richter magnitude each PHA's impact.\n",
    "\n",
    "* Write a function: `find_impact_mag`\n",
    "* Richter magnitude is dimentionless\n",
    "* Add a column `Impact_Mag` to the table."
   ]
  },
  {
   "cell_type": "code",
   "execution_count": null,
   "metadata": {
    "jupyter": {
     "outputs_hidden": false
    }
   },
   "outputs": [],
   "source": [
    "# Write Function\n"
   ]
  },
  {
   "cell_type": "code",
   "execution_count": null,
   "metadata": {
    "jupyter": {
     "outputs_hidden": false
    }
   },
   "outputs": [],
   "source": [
    "# Use Function\n"
   ]
  },
  {
   "cell_type": "code",
   "execution_count": null,
   "metadata": {
    "jupyter": {
     "outputs_hidden": false
    }
   },
   "outputs": [],
   "source": [
    "# Add column\n"
   ]
  },
  {
   "cell_type": "markdown",
   "metadata": {},
   "source": [
    "---\n",
    "\n",
    "## Determine how far away you would have to be from the impact so that M < 4.0.\n",
    "\n",
    "* Write a function: `find_safe_distance`\n",
    "* Make sure you use units.\n",
    "* Express your answer [SI](https://en.wikipedia.org/wiki/International_System_of_Units) units.\n",
    "* Add a column `Safe Distance` to the table."
   ]
  },
  {
   "cell_type": "code",
   "execution_count": null,
   "metadata": {
    "jupyter": {
     "outputs_hidden": false
    }
   },
   "outputs": [],
   "source": [
    "# Write Function\n"
   ]
  },
  {
   "cell_type": "code",
   "execution_count": null,
   "metadata": {
    "jupyter": {
     "outputs_hidden": false
    }
   },
   "outputs": [],
   "source": [
    "# Use Function\n"
   ]
  },
  {
   "cell_type": "code",
   "execution_count": null,
   "metadata": {
    "jupyter": {
     "outputs_hidden": false
    }
   },
   "outputs": [],
   "source": [
    "# Add column\n"
   ]
  },
  {
   "cell_type": "markdown",
   "metadata": {},
   "source": [
    "---"
   ]
  },
  {
   "cell_type": "markdown",
   "metadata": {},
   "source": [
    "<img style=\"float: right;\" src=\"./images/Cake.gif\" width=\"400\"/>\n",
    "\n",
    "### Publish your final report paragraph \n",
    "\n",
    "* Replace the CAPITALIZED values with the real data\n",
    "* DO NOT HARDCODE VALUES\n",
    "* All values to 2 decimals\n",
    "* Pay attention to the units requested\n",
    "* The test is over now. You win. Go back to the recovery annex. For your cake.\n",
    "\n",
    "```\n",
    "The forth most massive asteroid, NAME, encountered the Earth at ENCOUNTER_SPEED km/s.\n",
    "NAME hit the Earth with a velocity of IMPACT_VELOCITY km/s, releasing IMPACT_ENERGY J\n",
    "of energy (equivalent to NUMBER tons-of-tnt). The impact of NAME caused a local seismic \n",
    "event of IMPACT_MAG on the Richter scale. All structures within SAFE_DISTANCE km were destroyed.\n",
    "```"
   ]
  },
  {
   "cell_type": "code",
   "execution_count": null,
   "metadata": {},
   "outputs": [],
   "source": []
  },
  {
   "cell_type": "code",
   "execution_count": null,
   "metadata": {},
   "outputs": [],
   "source": []
  },
  {
   "cell_type": "markdown",
   "metadata": {},
   "source": [
    "---\n",
    "## Blowing up an asteroid\n",
    "\n",
    "The self gravitational potential energy of a uniform sphere of mass (M) and diameter (D) is:\n",
    "\n",
    "$$ \\large\n",
    "PE \\ = \\ \\frac{6}{5} \\cdot \\frac{GM^2}{D}\n",
    "$$\n",
    "\n",
    "This is the amount of energy you need to give the sphere to move all of its components pieces infinitely far away (i.e. to destroy it!)."
   ]
  },
  {
   "cell_type": "markdown",
   "metadata": {},
   "source": [
    "---\n",
    "\n",
    "## Orbital Speed\n",
    "\n",
    "The speed of an object on an elliptical orbit around the Sun with semi-major axis =**a** at a distance **r** is:\n",
    "\n",
    "$$ \\large\n",
    "v^{2}\\ =\\ {GM_{\\odot}\\ \\left(\\ \\frac{2}{r} - \\frac{1}{a}\\ \\right)}\n",
    "$$\n",
    "\n",
    "Watch your units! Both **r** and **a** should have the same type of unit\n",
    "\n",
    "---\n",
    "\n",
    "## Encountering the Earth\n",
    "\n",
    "The encounter speed of an asteroid meeting the Earth at 1 AU is (assuimg aligned prograde orbits):\n",
    "\n",
    "$$ \\large\n",
    "V_{\\textrm{encounter}}\\ =\\ V_{\\textrm{asteroid at 1AU}}\\ -\\ V_{\\textrm{Earth}}\n",
    "$$\n",
    "\n",
    "Where $V_{\\textrm{Earth}}\\ =\\ 29.78\\ \\textrm{km/s}$\n",
    "\n",
    "The encounter speed may be negative\n",
    "\n",
    "---\n",
    "\n",
    "## Hitting the Earth\n",
    "\n",
    "The impact speed of an asteroid hitting the Earth is:\n",
    "\n",
    "$$ \\large\n",
    "V_{\\textrm{impact}}^{2}\\ =\\ {V_{\\textrm{encounter}}^2 + V_{\\textrm{escape}}^2}\n",
    "$$\n",
    "\n",
    "Where $V_{\\textrm{escape}}\\ = 11.19\\ \\textrm{km/s}$\n",
    "\n",
    "---\n",
    "\n",
    "## Earthquake Intensity\n",
    "\n",
    "The intensity of earthquakes are classically expressed on the [Richter magnitude scale](https://en.wikipedia.org/wiki/Richter_magnitude_scale). The Richter magnitude (**M**) of an impact can be calculated from the kinetic energy of the impactor by:\n",
    "\n",
    "$$ \\large\n",
    "\\mathrm{M} \\ = \\ 0.67\\ \\log_{10} \n",
    "\\left( \\frac{\\mathrm{Impactor\\_KE}}{\\mathrm{1\\ Joule}} \\right) − 5.87\n",
    "$$\n",
    "\n",
    "The effective Richter magnitude (M$_{\\mathrm{eff}}$) is the Richter magnitude at a distance **r** away from the impact and can be calculated by:\n",
    "\n",
    "$$ \\large\n",
    "\\mathrm{M_{eff}} \\ = \\ \\mathrm{M} − 0.0048\\ \\left( \\frac{\\mathrm{r}}{\\mathrm{1\\ km}} \\right) - 1.1644\n",
    "$$\n"
   ]
  },
  {
   "cell_type": "markdown",
   "metadata": {},
   "source": [
    "---\n",
    "\n",
    "## Due Mon Feb 8 (1pm)\n",
    "\n",
    " * `File -> Download as... -> HTML`\n",
    " * `Upload HTML file to Canvas`"
   ]
  }
 ],
 "metadata": {
  "kernelspec": {
   "display_name": "Python 3",
   "language": "python",
   "name": "python3"
  },
  "language_info": {
   "codemirror_mode": {
    "name": "ipython",
    "version": 3
   },
   "file_extension": ".py",
   "mimetype": "text/x-python",
   "name": "python",
   "nbconvert_exporter": "python",
   "pygments_lexer": "ipython3",
   "version": "3.8.10"
  }
 },
 "nbformat": 4,
 "nbformat_minor": 4
}
