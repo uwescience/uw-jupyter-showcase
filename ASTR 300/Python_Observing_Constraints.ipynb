{
 "cells": [
  {
   "cell_type": "markdown",
   "metadata": {},
   "source": [
    "# More `astroplan` - Constraints"
   ]
  },
  {
   "cell_type": "code",
   "execution_count": 38,
   "metadata": {
    "jupyter": {
     "outputs_hidden": false
    }
   },
   "outputs": [],
   "source": [
    "import numpy as np\n",
    "import pandas as pd\n",
    "\n",
    "import pytz\n",
    "\n",
    "import astropy.units as u\n",
    "from astropy.time import Time\n",
    "from astropy.coordinates import SkyCoord, EarthLocation\n",
    "from astroplan import Observer, FixedTarget\n",
    "\n",
    "import warnings\n",
    "warnings.filterwarnings('ignore', category=Warning)"
   ]
  },
  {
   "cell_type": "markdown",
   "metadata": {},
   "source": [
    "----\n",
    "\n",
    "# Side Topic One: `For-loop` and `arrays`"
   ]
  },
  {
   "cell_type": "code",
   "execution_count": 39,
   "metadata": {},
   "outputs": [
    {
     "data": {
      "text/plain": [
       "array([[0, 3, 7],\n",
       "       [2, 1, 8],\n",
       "       [4, 9, 3]])"
      ]
     },
     "execution_count": 39,
     "metadata": {},
     "output_type": "execute_result"
    }
   ],
   "source": [
    "my_matrix = np.array(\n",
    "[[0, 3, 7],\n",
    " [2, 1, 8],\n",
    " [4, 9, 3],]\n",
    ")\n",
    "\n",
    "my_matrix"
   ]
  },
  {
   "cell_type": "code",
   "execution_count": 40,
   "metadata": {},
   "outputs": [
    {
     "name": "stdout",
     "output_type": "stream",
     "text": [
      "X = 0, Y = 3, and Z = 7\n",
      "X = 2, Y = 1, and Z = 8\n",
      "X = 4, Y = 9, and Z = 3\n"
     ]
    }
   ],
   "source": [
    "for my_x, my_y, my_z in my_matrix:\n",
    "    print(f\"X = {my_x}, Y = {my_y}, and Z = {my_z}\")"
   ]
  },
  {
   "cell_type": "markdown",
   "metadata": {},
   "source": [
    "---\n",
    "\n",
    "<img style=\"float: right;\" src=\"./images/ComplexCode.jpg\" width=\"275\"/>\n",
    "\n",
    "# Side Topic Two: List Comprehensions\n",
    "\n",
    "List comprehensions provide a concise way to create lists (arrays). Common applications are to make new lists where each element is the result of some operations applied to each member of another sequence.\n",
    "\n",
    "### For example: Create the list: `[0, 1, 4, 9, 16, 25, 36, 49, 64, 81]`"
   ]
  },
  {
   "cell_type": "code",
   "execution_count": 41,
   "metadata": {
    "jupyter": {
     "outputs_hidden": false
    }
   },
   "outputs": [
    {
     "data": {
      "text/plain": [
       "[0, 1, 4, 9, 16, 25, 36, 49, 64, 81]"
      ]
     },
     "execution_count": 41,
     "metadata": {},
     "output_type": "execute_result"
    }
   ],
   "source": [
    "squares = []                    # create a blank list\n",
    "\n",
    "for x in range(10):             # foor loop 0 -> 9\n",
    "    squares.append(x**2)        # calculate x**2 for each x, add to end of list\n",
    "\n",
    "squares"
   ]
  },
  {
   "cell_type": "markdown",
   "metadata": {},
   "source": [
    "### You can do the same thing with:"
   ]
  },
  {
   "cell_type": "code",
   "execution_count": 42,
   "metadata": {
    "jupyter": {
     "outputs_hidden": false
    }
   },
   "outputs": [
    {
     "data": {
      "text/plain": [
       "[0, 1, 4, 9, 16, 25, 36, 49, 64, 81]"
      ]
     },
     "execution_count": 42,
     "metadata": {},
     "output_type": "execute_result"
    }
   ],
   "source": [
    "squares = [x**2 for x in range(10)]\n",
    "\n",
    "squares"
   ]
  },
  {
   "cell_type": "markdown",
   "metadata": {},
   "source": [
    "### You can include `if` statements:"
   ]
  },
  {
   "cell_type": "code",
   "execution_count": 43,
   "metadata": {
    "jupyter": {
     "outputs_hidden": false
    }
   },
   "outputs": [
    {
     "data": {
      "text/plain": [
       "[0, 4, 16, 36, 64]"
      ]
     },
     "execution_count": 43,
     "metadata": {},
     "output_type": "execute_result"
    }
   ],
   "source": [
    "even_squares = []\n",
    "\n",
    "for x in range(10):\n",
    "\n",
    "    if (x % 2 == 0):\n",
    "        even_squares.append(x**2)\n",
    "\n",
    "even_squares"
   ]
  },
  {
   "cell_type": "markdown",
   "metadata": {},
   "source": [
    "### You can do the same thing with:"
   ]
  },
  {
   "cell_type": "code",
   "execution_count": 44,
   "metadata": {
    "jupyter": {
     "outputs_hidden": false
    }
   },
   "outputs": [
    {
     "data": {
      "text/plain": [
       "[0, 4, 16, 36, 64]"
      ]
     },
     "execution_count": 44,
     "metadata": {},
     "output_type": "execute_result"
    }
   ],
   "source": [
    "even_squares = [x**2 for x in range(10) if (x % 2 == 0)]\n",
    "\n",
    "even_squares"
   ]
  },
  {
   "cell_type": "markdown",
   "metadata": {},
   "source": [
    "----\n",
    "\n",
    "<img style=\"float: right;\" src=\"./images/Both.gif\" width=\"225\"/>\n",
    "\n",
    "# Side Topic Three: \n",
    "\n",
    "* ## `For-loop - arrays`\n",
    "* ## List Comprehensions\n"
   ]
  },
  {
   "cell_type": "code",
   "execution_count": 45,
   "metadata": {},
   "outputs": [
    {
     "data": {
      "text/plain": [
       "array([[0, 3, 7],\n",
       "       [2, 1, 8],\n",
       "       [4, 9, 3]])"
      ]
     },
     "execution_count": 45,
     "metadata": {},
     "output_type": "execute_result"
    }
   ],
   "source": [
    "my_matrix"
   ]
  },
  {
   "cell_type": "code",
   "execution_count": 46,
   "metadata": {},
   "outputs": [],
   "source": [
    "def my_function(my_x, my_y, my_z):\n",
    "    result = my_x + my_y + my_z\n",
    "    return result"
   ]
  },
  {
   "cell_type": "code",
   "execution_count": 47,
   "metadata": {},
   "outputs": [],
   "source": [
    "my_output = [my_function(my_x, my_y, my_z) for my_x, my_y, my_z in my_matrix]"
   ]
  },
  {
   "cell_type": "code",
   "execution_count": 48,
   "metadata": {},
   "outputs": [
    {
     "data": {
      "text/plain": [
       "[10, 11, 16]"
      ]
     },
     "execution_count": 48,
     "metadata": {},
     "output_type": "execute_result"
    }
   ],
   "source": [
    "my_output"
   ]
  },
  {
   "cell_type": "markdown",
   "metadata": {},
   "source": [
    "---\n",
    "\n",
    "# Now to observations"
   ]
  },
  {
   "cell_type": "markdown",
   "metadata": {},
   "source": [
    "## Let us start with a external list of target objects:"
   ]
  },
  {
   "cell_type": "code",
   "execution_count": 49,
   "metadata": {
    "jupyter": {
     "outputs_hidden": false
    }
   },
   "outputs": [],
   "source": [
    "target_table = pd.read_csv('./Data/ObjectList.csv')"
   ]
  },
  {
   "cell_type": "code",
   "execution_count": 50,
   "metadata": {
    "jupyter": {
     "outputs_hidden": false
    }
   },
   "outputs": [
    {
     "data": {
      "text/html": [
       "<div>\n",
       "<style scoped>\n",
       "    .dataframe tbody tr th:only-of-type {\n",
       "        vertical-align: middle;\n",
       "    }\n",
       "\n",
       "    .dataframe tbody tr th {\n",
       "        vertical-align: top;\n",
       "    }\n",
       "\n",
       "    .dataframe thead th {\n",
       "        text-align: right;\n",
       "    }\n",
       "</style>\n",
       "<table border=\"1\" class=\"dataframe\">\n",
       "  <thead>\n",
       "    <tr style=\"text-align: right;\">\n",
       "      <th></th>\n",
       "      <th>Name</th>\n",
       "      <th>RA</th>\n",
       "      <th>DEC</th>\n",
       "    </tr>\n",
       "  </thead>\n",
       "  <tbody>\n",
       "    <tr>\n",
       "      <th>0</th>\n",
       "      <td>Aquarius</td>\n",
       "      <td>22.40784</td>\n",
       "      <td>-10.15606</td>\n",
       "    </tr>\n",
       "    <tr>\n",
       "      <th>1</th>\n",
       "      <td>Aries</td>\n",
       "      <td>2.66237</td>\n",
       "      <td>19.95906</td>\n",
       "    </tr>\n",
       "    <tr>\n",
       "      <th>2</th>\n",
       "      <td>Cancer</td>\n",
       "      <td>8.68322</td>\n",
       "      <td>19.18940</td>\n",
       "    </tr>\n",
       "  </tbody>\n",
       "</table>\n",
       "</div>"
      ],
      "text/plain": [
       "       Name        RA       DEC\n",
       "0  Aquarius  22.40784 -10.15606\n",
       "1     Aries   2.66237  19.95906\n",
       "2    Cancer   8.68322  19.18940"
      ]
     },
     "execution_count": 50,
     "metadata": {},
     "output_type": "execute_result"
    }
   ],
   "source": [
    "target_table[0:3]"
   ]
  },
  {
   "cell_type": "markdown",
   "metadata": {},
   "source": [
    "#### Shortcut to pull all values from a `pandas` table:"
   ]
  },
  {
   "cell_type": "code",
   "execution_count": 51,
   "metadata": {
    "jupyter": {
     "outputs_hidden": false
    }
   },
   "outputs": [],
   "source": [
    "table_values = target_table.to_numpy()"
   ]
  },
  {
   "cell_type": "code",
   "execution_count": 52,
   "metadata": {
    "jupyter": {
     "outputs_hidden": false
    }
   },
   "outputs": [
    {
     "data": {
      "text/plain": [
       "array([['Aquarius', 22.40784, -10.15606],\n",
       "       ['Aries', 2.66237, 19.95906],\n",
       "       ['Cancer', 8.68322, 19.1894]], dtype=object)"
      ]
     },
     "execution_count": 52,
     "metadata": {},
     "output_type": "execute_result"
    }
   ],
   "source": [
    "table_values[0:3]"
   ]
  },
  {
   "cell_type": "markdown",
   "metadata": {},
   "source": [
    "### Instead of using SIMBAD, you can manually enter info for a target in the sky\n",
    "\n",
    "`FixedTarget(coords, name = 'string')`"
   ]
  },
  {
   "cell_type": "code",
   "execution_count": 53,
   "metadata": {
    "jupyter": {
     "outputs_hidden": false
    }
   },
   "outputs": [],
   "source": [
    "targets = [FixedTarget(coord = SkyCoord(ra = my_RA * u.hourangle, dec = my_DEC * u.deg), name = my_Name)\n",
    "           for my_Name, my_RA, my_DEC in table_values]"
   ]
  },
  {
   "cell_type": "code",
   "execution_count": 54,
   "metadata": {
    "jupyter": {
     "outputs_hidden": false
    }
   },
   "outputs": [
    {
     "data": {
      "text/plain": [
       "[<FixedTarget \"Aquarius\" at SkyCoord (ICRS): (ra, dec) in deg (336.1176, -10.15606)>,\n",
       " <FixedTarget \"Aries\" at SkyCoord (ICRS): (ra, dec) in deg (39.93555, 19.95906)>,\n",
       " <FixedTarget \"Cancer\" at SkyCoord (ICRS): (ra, dec) in deg (130.2483, 19.1894)>]"
      ]
     },
     "execution_count": 54,
     "metadata": {},
     "output_type": "execute_result"
    }
   ],
   "source": [
    "targets[0:3]"
   ]
  },
  {
   "cell_type": "markdown",
   "metadata": {},
   "source": [
    "----\n",
    "\n",
    "# [Theodor Jacobsen Observatory (TJO)](http://depts.washington.edu/astron/outreach/jacobsen-observatory/)\n",
    "\n",
    "The UW Astronomy department was founded in 1891 by the mathematics professor Joseph M. Taylor. Dr. Taylor built the first observatory on the University of Washington campus (UW was originally located downtown - 4th Ave and University, the current location of the Fairmont Olympic Hotel).\n",
    "When the university moved to its present location, Dr. Taylor spent 3,000 dollars on a 6-inch refractor telescope and appropriated the stone and money left over from the construction of Denny Hall to build the observatory we see on campus today.\n",
    "\n",
    "The observatory is named after Theodor S. Jacobsen, who began teaching at UW in 1928. Professor Jacobsen had a long career at the UW and was the key figure in establishing the modern UW Astronomy department. His last book came out in 1999, four years before his death at the age of 102.\n",
    "\n",
    "<p align=\"center\"> \n",
    "    <img src=\"./images/TJO_Now_sm.jpg\" width = \"291\">\n",
    "    <img src=\"./images/TJO_Telescope.jpg\" width = \"176\">\n",
    "    <img src=\"./images/TJ_Photo.jpg\" width = \"243\">\n",
    "    <img src=\"./images/OldUW.jpg\" width = \"320\">\n",
    "</p>"
   ]
  },
  {
   "cell_type": "code",
   "execution_count": 55,
   "metadata": {},
   "outputs": [],
   "source": [
    "tjo_observe = Observer(longitude = -122.309268 * u.deg,\n",
    "                       latitude = 47.660431 * u.deg,\n",
    "                       timezone = 'US/Pacific',\n",
    "                       name = \"Theodor Jacobsen Observatory\"\n",
    "                      )"
   ]
  },
  {
   "cell_type": "code",
   "execution_count": 56,
   "metadata": {},
   "outputs": [
    {
     "data": {
      "text/plain": [
       "<Observer: name='Theodor Jacobsen Observatory',\n",
       "    location (lon, lat, el)=(-122.30926800000003 deg, 47.66043100000001 deg, 0.0 m),\n",
       "    timezone=<DstTzInfo 'US/Pacific' LMT-1 day, 16:07:00 STD>>"
      ]
     },
     "execution_count": 56,
     "metadata": {},
     "output_type": "execute_result"
    }
   ],
   "source": [
    "tjo_observe"
   ]
  },
  {
   "cell_type": "markdown",
   "metadata": {},
   "source": [
    "----\n",
    "\n",
    "# Public Outreach\n",
    "\n",
    "TJO's main use today is as a site for public outreach. In normal times, undergraduate astro majors (you!) give monthly public talks and lead tours of the night sky\n",
    "\n",
    "For this example, let us say you are planning to give a talk at TJO about the constellations of the zodiac. And you want to be able to show the audience some of the constellations in the sky.\n",
    "\n",
    "* The date of the talk is Mar 29, 2021\n",
    "* The talks are usually given from 8 - 11 pm"
   ]
  },
  {
   "cell_type": "code",
   "execution_count": 57,
   "metadata": {},
   "outputs": [
    {
     "name": "stdout",
     "output_type": "stream",
     "text": [
      "2021-03-28 21:00:00-07:00\n"
     ]
    }
   ],
   "source": [
    "talk_start = Time(\"2021-03-29 04:00\")\n",
    "talk_end = Time(\"2021-03-29 07:00\")\n",
    "\n",
    "print(talk_start.to_datetime(tjo_observe.timezone))"
   ]
  },
  {
   "cell_type": "code",
   "execution_count": 58,
   "metadata": {},
   "outputs": [],
   "source": [
    "my_time_range = [talk_start, talk_end]"
   ]
  },
  {
   "cell_type": "markdown",
   "metadata": {},
   "source": [
    "----\n",
    "\n",
    "# Observing Constraints\n",
    "\n",
    "### We have a place, a time, and some targets. But what targets can we see?"
   ]
  },
  {
   "cell_type": "code",
   "execution_count": 59,
   "metadata": {},
   "outputs": [],
   "source": [
    "from astroplan import SunSeparationConstraint\n",
    "from astroplan import observability_table"
   ]
  },
  {
   "cell_type": "markdown",
   "metadata": {},
   "source": [
    "### We are observing at night, so let us only look at things thar are greater than 6 hours away from the Sun"
   ]
  },
  {
   "cell_type": "code",
   "execution_count": 60,
   "metadata": {},
   "outputs": [],
   "source": [
    "my_constraints = [SunSeparationConstraint(6 * u.hourangle)]"
   ]
  },
  {
   "cell_type": "code",
   "execution_count": 61,
   "metadata": {},
   "outputs": [
    {
     "data": {
      "text/plain": [
       "[<astroplan.constraints.SunSeparationConstraint at 0x7fceea335460>]"
      ]
     },
     "execution_count": 61,
     "metadata": {},
     "output_type": "execute_result"
    }
   ],
   "source": [
    "my_constraints"
   ]
  },
  {
   "cell_type": "markdown",
   "metadata": {},
   "source": [
    "## astroplan's `observability_table` is a quick summary of what you can see\n",
    "\n",
    "`observability_table(constraints, location, targets, time_range)`"
   ]
  },
  {
   "cell_type": "code",
   "execution_count": 62,
   "metadata": {},
   "outputs": [
    {
     "data": {
      "text/html": [
       "<div><i>Table length=13</i>\n",
       "<table id=\"table140527392760208\" class=\"table-striped table-bordered table-condensed\">\n",
       "<thead><tr><th>target name</th><th>ever observable</th><th>always observable</th><th>fraction of time observable</th></tr></thead>\n",
       "<thead><tr><th>str11</th><th>bool</th><th>bool</th><th>float64</th></tr></thead>\n",
       "<tr><td>Aquarius</td><td>False</td><td>False</td><td>0.0</td></tr>\n",
       "<tr><td>Aries</td><td>False</td><td>False</td><td>0.0</td></tr>\n",
       "<tr><td>Cancer</td><td>True</td><td>True</td><td>1.0</td></tr>\n",
       "<tr><td>Capricornus</td><td>False</td><td>False</td><td>0.0</td></tr>\n",
       "<tr><td>Gemini</td><td>True</td><td>True</td><td>1.0</td></tr>\n",
       "<tr><td>Leo</td><td>True</td><td>True</td><td>1.0</td></tr>\n",
       "<tr><td>Libra</td><td>True</td><td>True</td><td>1.0</td></tr>\n",
       "<tr><td>Ophiuchus</td><td>True</td><td>True</td><td>1.0</td></tr>\n",
       "<tr><td>Pisces</td><td>False</td><td>False</td><td>0.0</td></tr>\n",
       "<tr><td>Sagittarius</td><td>False</td><td>False</td><td>0.0</td></tr>\n",
       "<tr><td>Scorpius</td><td>True</td><td>True</td><td>1.0</td></tr>\n",
       "<tr><td>Taurus</td><td>False</td><td>False</td><td>0.0</td></tr>\n",
       "<tr><td>Virgo</td><td>True</td><td>True</td><td>1.0</td></tr>\n",
       "</table></div>"
      ],
      "text/plain": [
       "<Table length=13>\n",
       "target name ever observable always observable fraction of time observable\n",
       "   str11          bool             bool                 float64          \n",
       "----------- --------------- ----------------- ---------------------------\n",
       "   Aquarius           False             False                         0.0\n",
       "      Aries           False             False                         0.0\n",
       "     Cancer            True              True                         1.0\n",
       "Capricornus           False             False                         0.0\n",
       "     Gemini            True              True                         1.0\n",
       "        Leo            True              True                         1.0\n",
       "      Libra            True              True                         1.0\n",
       "  Ophiuchus            True              True                         1.0\n",
       "     Pisces           False             False                         0.0\n",
       "Sagittarius           False             False                         0.0\n",
       "   Scorpius            True              True                         1.0\n",
       "     Taurus           False             False                         0.0\n",
       "      Virgo            True              True                         1.0"
      ]
     },
     "execution_count": 62,
     "metadata": {},
     "output_type": "execute_result"
    }
   ],
   "source": [
    "observing_table = observability_table(my_constraints, tjo_observe, targets, time_range = my_time_range)\n",
    "\n",
    "observing_table"
   ]
  },
  {
   "cell_type": "markdown",
   "metadata": {},
   "source": [
    "### Just show the objects that are observable"
   ]
  },
  {
   "cell_type": "code",
   "execution_count": 63,
   "metadata": {},
   "outputs": [
    {
     "data": {
      "text/html": [
       "<div><i>Table length=7</i>\n",
       "<table id=\"table140526617917952\" class=\"table-striped table-bordered table-condensed\">\n",
       "<thead><tr><th>target name</th><th>ever observable</th><th>always observable</th><th>fraction of time observable</th></tr></thead>\n",
       "<thead><tr><th>str11</th><th>bool</th><th>bool</th><th>float64</th></tr></thead>\n",
       "<tr><td>Cancer</td><td>True</td><td>True</td><td>1.0</td></tr>\n",
       "<tr><td>Gemini</td><td>True</td><td>True</td><td>1.0</td></tr>\n",
       "<tr><td>Leo</td><td>True</td><td>True</td><td>1.0</td></tr>\n",
       "<tr><td>Libra</td><td>True</td><td>True</td><td>1.0</td></tr>\n",
       "<tr><td>Ophiuchus</td><td>True</td><td>True</td><td>1.0</td></tr>\n",
       "<tr><td>Scorpius</td><td>True</td><td>True</td><td>1.0</td></tr>\n",
       "<tr><td>Virgo</td><td>True</td><td>True</td><td>1.0</td></tr>\n",
       "</table></div>"
      ],
      "text/plain": [
       "<Table length=7>\n",
       "target name ever observable always observable fraction of time observable\n",
       "   str11          bool             bool                 float64          \n",
       "----------- --------------- ----------------- ---------------------------\n",
       "     Cancer            True              True                         1.0\n",
       "     Gemini            True              True                         1.0\n",
       "        Leo            True              True                         1.0\n",
       "      Libra            True              True                         1.0\n",
       "  Ophiuchus            True              True                         1.0\n",
       "   Scorpius            True              True                         1.0\n",
       "      Virgo            True              True                         1.0"
      ]
     },
     "execution_count": 63,
     "metadata": {},
     "output_type": "execute_result"
    }
   ],
   "source": [
    "observing_table[observing_table['ever observable'] > 0]"
   ]
  },
  {
   "cell_type": "markdown",
   "metadata": {},
   "source": [
    "## What about Moonlight?"
   ]
  },
  {
   "cell_type": "code",
   "execution_count": 64,
   "metadata": {},
   "outputs": [
    {
     "data": {
      "text/plain": [
       "0.9964234331363064"
      ]
     },
     "execution_count": 64,
     "metadata": {},
     "output_type": "execute_result"
    }
   ],
   "source": [
    "tjo_observe.moon_illumination(talk_start)"
   ]
  },
  {
   "cell_type": "code",
   "execution_count": 65,
   "metadata": {},
   "outputs": [],
   "source": [
    "from astroplan import MoonSeparationConstraint"
   ]
  },
  {
   "cell_type": "code",
   "execution_count": 66,
   "metadata": {},
   "outputs": [],
   "source": [
    "my_constraints.append(MoonSeparationConstraint(30 * u.deg))"
   ]
  },
  {
   "cell_type": "code",
   "execution_count": 67,
   "metadata": {},
   "outputs": [
    {
     "data": {
      "text/plain": [
       "[<astroplan.constraints.SunSeparationConstraint at 0x7fceea335460>,\n",
       " <astroplan.constraints.MoonSeparationConstraint at 0x7fceea39fe50>]"
      ]
     },
     "execution_count": 67,
     "metadata": {},
     "output_type": "execute_result"
    }
   ],
   "source": [
    "my_constraints"
   ]
  },
  {
   "cell_type": "code",
   "execution_count": 68,
   "metadata": {},
   "outputs": [],
   "source": [
    "observing_table = observability_table(my_constraints, tjo_observe, targets, time_range = my_time_range)"
   ]
  },
  {
   "cell_type": "code",
   "execution_count": 69,
   "metadata": {},
   "outputs": [
    {
     "data": {
      "text/html": [
       "<div><i>Table length=6</i>\n",
       "<table id=\"table140526617493264\" class=\"table-striped table-bordered table-condensed\">\n",
       "<thead><tr><th>target name</th><th>ever observable</th><th>always observable</th><th>fraction of time observable</th></tr></thead>\n",
       "<thead><tr><th>str11</th><th>bool</th><th>bool</th><th>float64</th></tr></thead>\n",
       "<tr><td>Cancer</td><td>True</td><td>True</td><td>1.0</td></tr>\n",
       "<tr><td>Gemini</td><td>True</td><td>True</td><td>1.0</td></tr>\n",
       "<tr><td>Leo</td><td>True</td><td>True</td><td>1.0</td></tr>\n",
       "<tr><td>Libra</td><td>True</td><td>True</td><td>1.0</td></tr>\n",
       "<tr><td>Ophiuchus</td><td>True</td><td>True</td><td>1.0</td></tr>\n",
       "<tr><td>Scorpius</td><td>True</td><td>True</td><td>1.0</td></tr>\n",
       "</table></div>"
      ],
      "text/plain": [
       "<Table length=6>\n",
       "target name ever observable always observable fraction of time observable\n",
       "   str11          bool             bool                 float64          \n",
       "----------- --------------- ----------------- ---------------------------\n",
       "     Cancer            True              True                         1.0\n",
       "     Gemini            True              True                         1.0\n",
       "        Leo            True              True                         1.0\n",
       "      Libra            True              True                         1.0\n",
       "  Ophiuchus            True              True                         1.0\n",
       "   Scorpius            True              True                         1.0"
      ]
     },
     "execution_count": 69,
     "metadata": {},
     "output_type": "execute_result"
    }
   ],
   "source": [
    "observing_table[observing_table['ever observable'] > 0]"
   ]
  },
  {
   "cell_type": "markdown",
   "metadata": {},
   "source": [
    "---\n",
    "\n",
    "<img style=\"float: right;\" src=\"./images/TJO_Locate.PNG\" width=\"300\"/>\n",
    "\n",
    "# Site Specific Constraints\n",
    "\n",
    "## TJO is not exactly in the greatest location for astronomical observations!\n",
    "\n",
    "* Lots of city lights\n",
    "* Especially the adjacent parking lot\n",
    "* Surrounding trees really limit the view!\n",
    "* You have to look above Alt = 30 degrees to clear the trees"
   ]
  },
  {
   "cell_type": "code",
   "execution_count": 70,
   "metadata": {},
   "outputs": [],
   "source": [
    "from astroplan import AltitudeConstraint"
   ]
  },
  {
   "cell_type": "code",
   "execution_count": 71,
   "metadata": {},
   "outputs": [],
   "source": [
    "my_constraints.append(AltitudeConstraint(min=30*u.deg, max=None))"
   ]
  },
  {
   "cell_type": "code",
   "execution_count": 72,
   "metadata": {},
   "outputs": [],
   "source": [
    "observing_table = observability_table(my_constraints, tjo_observe, targets, time_range = my_time_range)"
   ]
  },
  {
   "cell_type": "code",
   "execution_count": 73,
   "metadata": {},
   "outputs": [
    {
     "data": {
      "text/html": [
       "<div><i>Table length=3</i>\n",
       "<table id=\"table140526617556400\" class=\"table-striped table-bordered table-condensed\">\n",
       "<thead><tr><th>target name</th><th>ever observable</th><th>always observable</th><th>fraction of time observable</th></tr></thead>\n",
       "<thead><tr><th>str11</th><th>bool</th><th>bool</th><th>float64</th></tr></thead>\n",
       "<tr><td>Cancer</td><td>True</td><td>True</td><td>1.0</td></tr>\n",
       "<tr><td>Gemini</td><td>True</td><td>True</td><td>1.0</td></tr>\n",
       "<tr><td>Leo</td><td>True</td><td>True</td><td>1.0</td></tr>\n",
       "</table></div>"
      ],
      "text/plain": [
       "<Table length=3>\n",
       "target name ever observable always observable fraction of time observable\n",
       "   str11          bool             bool                 float64          \n",
       "----------- --------------- ----------------- ---------------------------\n",
       "     Cancer            True              True                         1.0\n",
       "     Gemini            True              True                         1.0\n",
       "        Leo            True              True                         1.0"
      ]
     },
     "execution_count": 73,
     "metadata": {},
     "output_type": "execute_result"
    }
   ],
   "source": [
    "observing_table[observing_table['ever observable'] > 0]"
   ]
  },
  {
   "cell_type": "code",
   "execution_count": 74,
   "metadata": {},
   "outputs": [
    {
     "data": {
      "text/latex": [
       "$3 \\; \\mathrm{h}$"
      ],
      "text/plain": [
       "<Quantity 3. h>"
      ]
     },
     "execution_count": 74,
     "metadata": {},
     "output_type": "execute_result"
    }
   ],
   "source": [
    "total_time = (talk_end - talk_start).to(u.h)\n",
    "\n",
    "total_time"
   ]
  },
  {
   "cell_type": "code",
   "execution_count": 75,
   "metadata": {},
   "outputs": [],
   "source": [
    "observing_table['Observing Time'] = total_time * observing_table['fraction of time observable']"
   ]
  },
  {
   "cell_type": "code",
   "execution_count": 76,
   "metadata": {},
   "outputs": [
    {
     "data": {
      "text/html": [
       "<div><i>Table length=3</i>\n",
       "<table id=\"table140526617558608\" class=\"table-striped table-bordered table-condensed\">\n",
       "<thead><tr><th>target name</th><th>ever observable</th><th>always observable</th><th>fraction of time observable</th><th>Observing Time</th></tr></thead>\n",
       "<thead><tr><th></th><th></th><th></th><th></th><th>h</th></tr></thead>\n",
       "<thead><tr><th>str11</th><th>bool</th><th>bool</th><th>float64</th><th>float64</th></tr></thead>\n",
       "<tr><td>Cancer</td><td>True</td><td>True</td><td>1.0</td><td>3.0</td></tr>\n",
       "<tr><td>Gemini</td><td>True</td><td>True</td><td>1.0</td><td>3.0</td></tr>\n",
       "<tr><td>Leo</td><td>True</td><td>True</td><td>1.0</td><td>3.0</td></tr>\n",
       "</table></div>"
      ],
      "text/plain": [
       "<Table length=3>\n",
       "target name ever observable ... fraction of time observable Observing Time\n",
       "                            ...                                   h       \n",
       "   str11          bool      ...           float64              float64    \n",
       "----------- --------------- ... --------------------------- --------------\n",
       "     Cancer            True ...                         1.0            3.0\n",
       "     Gemini            True ...                         1.0            3.0\n",
       "        Leo            True ...                         1.0            3.0"
      ]
     },
     "execution_count": 76,
     "metadata": {},
     "output_type": "execute_result"
    }
   ],
   "source": [
    "observing_table[observing_table['ever observable'] > 0]"
   ]
  },
  {
   "cell_type": "markdown",
   "metadata": {},
   "source": [
    "----\n",
    "\n",
    "<img style=\"float: right;\" src=\"./images/TJO_Locate_AZ.PNG\" width=\"300\"/>\n",
    "\n",
    "# Non-Standard Constraint\n",
    "\n",
    "## In addition, the trees to the North and West completely envelop the observatory!\n",
    "\n",
    "* You can only really observe at Azimuths between about 70 and 185 degrees\n",
    "* `astroplan` does not have an Azimuth constraint so will will try something else"
   ]
  },
  {
   "cell_type": "markdown",
   "metadata": {},
   "source": [
    "## We will use `plot_sky` to check the azimuth constraint\n",
    "\n",
    "* `plot_sky(targets, location, time)`"
   ]
  },
  {
   "cell_type": "code",
   "execution_count": 77,
   "metadata": {},
   "outputs": [],
   "source": [
    "target_mask = np.flatnonzero(observing_table['ever observable'] > 0)"
   ]
  },
  {
   "cell_type": "code",
   "execution_count": 78,
   "metadata": {},
   "outputs": [
    {
     "data": {
      "text/plain": [
       "array([2, 4, 5])"
      ]
     },
     "execution_count": 78,
     "metadata": {},
     "output_type": "execute_result"
    }
   ],
   "source": [
    "target_mask"
   ]
  },
  {
   "cell_type": "code",
   "execution_count": 79,
   "metadata": {},
   "outputs": [
    {
     "name": "stdout",
     "output_type": "stream",
     "text": [
      "<FixedTarget \"Cancer\" at SkyCoord (ICRS): (ra, dec) in deg (130.2483, 19.1894)>\n",
      "<FixedTarget \"Gemini\" at SkyCoord (ICRS): (ra, dec) in deg (107.33775, 23.25312)>\n",
      "<FixedTarget \"Leo\" at SkyCoord (ICRS): (ra, dec) in deg (160.3995, 14.78016)>\n"
     ]
    }
   ],
   "source": [
    "for index in target_mask:\n",
    "    print(targets[index])"
   ]
  },
  {
   "cell_type": "code",
   "execution_count": 87,
   "metadata": {},
   "outputs": [],
   "source": [
    "import matplotlib.pyplot as plt\n",
    "\n",
    "from astroplan import time_grid_from_range\n",
    "from astroplan.plots import plot_sky"
   ]
  },
  {
   "cell_type": "code",
   "execution_count": 88,
   "metadata": {},
   "outputs": [
    {
     "data": {
      "image/png": "[encoded data removed]",
      "text/plain": [
       "<Figure size 576x576 with 1 Axes>"
      ]
     },
     "metadata": {
      "needs_background": "light"
     },
     "output_type": "display_data"
    }
   ],
   "source": [
    "fig,ax = plt.subplots(1,1,subplot_kw={'projection': 'polar'})\n",
    "fig.set_size_inches(8,8)\n",
    "\n",
    "fig.tight_layout()\n",
    "\n",
    "for index in target_mask:\n",
    "    ax = plot_sky(targets[index], tjo_observe, talk_start)\n",
    "\n",
    "ax.legend(loc=0,shadow=True);"
   ]
  },
  {
   "cell_type": "code",
   "execution_count": 90,
   "metadata": {},
   "outputs": [
    {
     "data": {
      "image/png": "[encoded data removed]",
      "text/plain": [
       "<Figure size 576x576 with 1 Axes>"
      ]
     },
     "metadata": {
      "needs_background": "light"
     },
     "output_type": "display_data"
    }
   ],
   "source": [
    "fig,ax = plt.subplots(1,1, subplot_kw={'projection': 'polar'})\n",
    "fig.set_size_inches(8,8)\n",
    "\n",
    "fig.tight_layout()\n",
    "\n",
    "for index in target_mask:\n",
    "    ax = plot_sky(targets[index], tjo_observe, talk_end)\n",
    "\n",
    "ax.legend(loc=0,shadow=True);"
   ]
  },
  {
   "cell_type": "markdown",
   "metadata": {},
   "source": [
    "## Looks like we are going to talk about Leo!"
   ]
  },
  {
   "cell_type": "markdown",
   "metadata": {},
   "source": [
    "----\n",
    "\n",
    "# Astroplan Constraints\n",
    "\n",
    "`from astroplan import CONSTRAINT`\n",
    "\n",
    "* `AirmassConstraint(max)` - Constrain the airmass of a target.\n",
    "* `AltitudeConstraint(min, max)` - Constrain the altitude of the target.\n",
    "* `MoonIlluminationConstraint(min, max)` - Constrain the fractional illumination of the Moon.\n",
    "* `MoonSeparationConstraint(min, max)` - Constrain the separation between the Moon and some targets.\n",
    "* `SunSeparationConstraint(min, max)` - Constrain the separation between the Sun and some targets."
   ]
  },
  {
   "cell_type": "markdown",
   "metadata": {},
   "source": [
    "---\n",
    "\n",
    "# Moving Targets (solar system targets)\n",
    "\n",
    "- The built-in solar system objects are: 'sun', 'mercury', 'venus', 'earth-moon-barycenter', 'earth', 'moon', 'mars', 'jupiter', 'saturn', 'uranus', 'neptune', 'pluto'"
   ]
  },
  {
   "cell_type": "code",
   "execution_count": 91,
   "metadata": {
    "jupyter": {
     "outputs_hidden": false
    }
   },
   "outputs": [],
   "source": [
    "from astropy.coordinates import get_body"
   ]
  },
  {
   "cell_type": "code",
   "execution_count": 92,
   "metadata": {
    "jupyter": {
     "outputs_hidden": false
    }
   },
   "outputs": [
    {
     "data": {
      "text/plain": [
       "<SkyCoord (GCRS: obstime=2021-03-29 04:00:00.000, obsgeoloc=(0., 0., 0.) m, obsgeovel=(0., 0., 0.) m / s): (ra, dec, distance) in (deg, deg, AU)\n",
       "    (7.7103817, 3.32855399, 0.99835821)>"
      ]
     },
     "execution_count": 92,
     "metadata": {},
     "output_type": "execute_result"
    }
   ],
   "source": [
    "sun_now = get_body('sun',talk_start)\n",
    "\n",
    "sun_now"
   ]
  },
  {
   "cell_type": "code",
   "execution_count": 93,
   "metadata": {
    "jupyter": {
     "outputs_hidden": false
    }
   },
   "outputs": [
    {
     "data": {
      "text/plain": [
       "(<Latitude -14.80451986 deg>, <Longitude 292.47387015 deg>)"
      ]
     },
     "execution_count": 93,
     "metadata": {},
     "output_type": "execute_result"
    }
   ],
   "source": [
    "sun_location = tjo_observe.altaz(talk_start, sun_now)\n",
    "\n",
    "sun_location.alt, sun_location.az"
   ]
  },
  {
   "cell_type": "code",
   "execution_count": 94,
   "metadata": {
    "jupyter": {
     "outputs_hidden": false
    }
   },
   "outputs": [],
   "source": [
    "moon_now = get_body('moon',talk_start)"
   ]
  },
  {
   "cell_type": "code",
   "execution_count": 95,
   "metadata": {},
   "outputs": [
    {
     "data": {
      "text/plain": [
       "(<Latitude 11.07759911 deg>, <Longitude 105.98554572 deg>)"
      ]
     },
     "execution_count": 95,
     "metadata": {},
     "output_type": "execute_result"
    }
   ],
   "source": [
    "moon_location = tjo_observe.altaz(talk_start, moon_now)\n",
    "\n",
    "moon_location.alt, moon_location.az"
   ]
  },
  {
   "cell_type": "code",
   "execution_count": 96,
   "metadata": {
    "jupyter": {
     "outputs_hidden": false
    }
   },
   "outputs": [
    {
     "data": {
      "text/latex": [
       "$173^\\circ07{}^\\prime34.61628777{}^{\\prime\\prime}$"
      ],
      "text/plain": [
       "<Angle 173.1262823 deg>"
      ]
     },
     "execution_count": 96,
     "metadata": {},
     "output_type": "execute_result"
    }
   ],
   "source": [
    "sun_now.separation(moon_now)"
   ]
  },
  {
   "cell_type": "markdown",
   "metadata": {},
   "source": [
    "## We can make the Moon a `FixedTarget` for planning"
   ]
  },
  {
   "cell_type": "code",
   "execution_count": 97,
   "metadata": {},
   "outputs": [],
   "source": [
    "pseudo_moon = FixedTarget(moon_now, name = \"Moon\")"
   ]
  },
  {
   "cell_type": "code",
   "execution_count": 98,
   "metadata": {},
   "outputs": [
    {
     "data": {
      "text/plain": [
       "<FixedTarget \"Moon\" at SkyCoord (GCRS: obstime=2021-03-29 04:00:00.000, obsgeoloc=(0., 0., 0.) m, obsgeovel=(0., 0., 0.) m / s): (ra, dec, distance) in (deg, deg, km) (194.32194006, -1.42733025, 361330.35454776)>"
      ]
     },
     "execution_count": 98,
     "metadata": {},
     "output_type": "execute_result"
    }
   ],
   "source": [
    "pseudo_moon"
   ]
  },
  {
   "cell_type": "code",
   "execution_count": 100,
   "metadata": {},
   "outputs": [
    {
     "data": {
      "image/png": "[encoded data removed]",
      "text/plain": [
       "<Figure size 576x576 with 1 Axes>"
      ]
     },
     "metadata": {
      "needs_background": "light"
     },
     "output_type": "display_data"
    }
   ],
   "source": [
    "fig,ax = plt.subplots(1,1,subplot_kw={'projection': 'polar'})\n",
    "fig.set_size_inches(8,8)\n",
    "\n",
    "fig.tight_layout()\n",
    "\n",
    "ax = plot_sky(pseudo_moon, tjo_observe, talk_start)\n",
    "ax = plot_sky(pseudo_moon, tjo_observe, talk_end)\n",
    "\n",
    "ax.legend(loc=0,shadow=True);"
   ]
  },
  {
   "cell_type": "markdown",
   "metadata": {},
   "source": [
    "## Maybe we should talk about the Moon!"
   ]
  },
  {
   "cell_type": "code",
   "execution_count": null,
   "metadata": {},
   "outputs": [],
   "source": []
  }
 ],
 "metadata": {
  "anaconda-cloud": {},
  "kernelspec": {
   "display_name": "Python 3",
   "language": "python",
   "name": "python3"
  },
  "language_info": {
   "codemirror_mode": {
    "name": "ipython",
    "version": 3
   },
   "file_extension": ".py",
   "mimetype": "text/x-python",
   "name": "python",
   "nbconvert_exporter": "python",
   "pygments_lexer": "ipython3",
   "version": "3.8.10"
  }
 },
 "nbformat": 4,
 "nbformat_minor": 4
}
