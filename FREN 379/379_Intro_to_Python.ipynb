{
 "cells": [
  {
   "cell_type": "markdown",
   "metadata": {},
   "source": [
    "## Some Basics ##\n",
    "We'll start with a simple instruction to print. If the data type or the object you're printing is in quotes, it is a *string*.\n",
    "\n",
    "Highlight the cell below -- you can click inside the cell or click on the side of it. It will be surrounded by a border, with either a blue or green outline on the left (blue just means the cell is highlighted. If you click inside the cell itself and are ready to edit, then the border turns green). When the cell is active, hit run above, and you'll run the code in that cell.\n",
    "\n",
    "In Python, you can use the hash-tag (#) to add comments to a script in order to explain what's going on. The # at the beginning of the line tells the computer not to process that line. In the exercises below, you'll see comments in a cell asking you to \"#Enter your script here\" or similar instructions. You can leave the comment and start typing on the line after it. Or you can just erase the comment and start typing at the top."
   ]
  },
  {
   "cell_type": "code",
   "execution_count": null,
   "metadata": {},
   "outputs": [],
   "source": [
    "print(\"Hi everyone\")"
   ]
  },
  {
   "cell_type": "markdown",
   "metadata": {},
   "source": [
    "A string is distinct from a *number*. Note the absence of quotes below."
   ]
  },
  {
   "cell_type": "code",
   "execution_count": null,
   "metadata": {
    "scrolled": true
   },
   "outputs": [],
   "source": [
    "print(3)"
   ]
  },
  {
   "cell_type": "markdown",
   "metadata": {},
   "source": [
    "And look at the next two examples: if you add two numbers, Python will add them as you would normally add two numbers: 3 + 2 = 5."
   ]
  },
  {
   "cell_type": "code",
   "execution_count": null,
   "metadata": {},
   "outputs": [],
   "source": [
    "print(3+2)"
   ]
  },
  {
   "cell_type": "markdown",
   "metadata": {},
   "source": [
    "But adding two strings is a different story. In the example below, we're adding not numbers, but strings of text, which, when \"added\" with a + sign, will *concatenate* -- that is, they will link together."
   ]
  },
  {
   "cell_type": "code",
   "execution_count": null,
   "metadata": {},
   "outputs": [],
   "source": [
    "print(\"3\" + \"2\")"
   ]
  },
  {
   "cell_type": "markdown",
   "metadata": {},
   "source": [
    "What you see above is not the number 32, it's a string of text which reads \"32\". Visually there's no difference. But Python will see these two types of data -- numbers and what Python calls strings, and which we can also call text -- very differently. You'll use them in different ways; and they don't mix well.\n",
    "\n",
    "Look at the cell below. First, just run it. Again, this illustrates the point: the output looks exactly the same but each is, in fact, very different.\n",
    "\n",
    "Next, go back. Remove the \"#\" from in front of the next two print functions. This will make those instructions active. Delete the question mark and add a term instead: whether a number or a string (always in quotes).\n",
    "\n",
    "What happens when you mix data types? Don't panic when you get the error! Errors are a normal part of programming. Just go back and change the second term to something that will work and run the cell again (or you can add the hash-tag back in and \"comment out\" the statements. Then run again)."
   ]
  },
  {
   "cell_type": "code",
   "execution_count": null,
   "metadata": {},
   "outputs": [],
   "source": [
    "print(32)\n",
    "print (\"32\")\n",
    "\n",
    "#print (32 + ?)\n",
    "#print (\"32\" + ?)"
   ]
  },
  {
   "cell_type": "code",
   "execution_count": null,
   "metadata": {},
   "outputs": [],
   "source": [
    "#You can use this cell to play around with the print function more."
   ]
  },
  {
   "cell_type": "markdown",
   "metadata": {},
   "source": [
    "## Variables ##\n",
    "*Variables* store values, and can be used for all kinds of objects: strings, numbers, as well as other kinds of objects, which we'll see in a second (lists, dictionaries, etc). You use \"=\" to asign values to variables."
   ]
  },
  {
   "cell_type": "code",
   "execution_count": null,
   "metadata": {
    "scrolled": true
   },
   "outputs": [],
   "source": [
    "x = \"Hi there\"\n",
    "y = \"Any questions?\"\n",
    "print (x)\n",
    "print (y)\n",
    "print (x + y) #note that when you concatenate strings, Python will not add a space.\n",
    "\n",
    "a = 3\n",
    "b = 7\n",
    "print (a, b, a + b) #and note here, that the print() function can take multiple arguments:\n",
    "                    #i.e. you can print several things within one print statement, separated by commas."
   ]
  },
  {
   "cell_type": "markdown",
   "metadata": {},
   "source": [
    "To emphasize: \"=\" *assigns* values in Python: i.e. you're *making* something equal to a particular value, not checking to see if two items are equal. In Python (like in other programming languages), you use a double equal sign to check for quality: \"==\". \n",
    "\n",
    "See the next cell for an illustration of the difference: we set x equal to 10 using the equal sign. Then we have two \"if\" statements, which check to see *if* x is equal to 10 or to 11 -- now using the \"==\". As it's written, which of the two conditions will be met?\n",
    "\n",
    "Run the cell. Then see what happens if you change the first statement to x = 11. Or x = 12."
   ]
  },
  {
   "cell_type": "code",
   "execution_count": null,
   "metadata": {},
   "outputs": [],
   "source": [
    "x = 10   #you are assigning the value 10 to variable x.\n",
    "\n",
    "if x == 10:   #this means, if x happens to equal 10, then do the indented instruction.\n",
    "    print (\"x = 10\") #as written, this will print, since we set x equal to 10.\n",
    "    \n",
    "if x == 11:\n",
    "    print(\"x = 11\") #this won't print, since x does not equal 11."
   ]
  },
  {
   "cell_type": "markdown",
   "metadata": {},
   "source": [
    "As the word \"variable\" implies, the values of variables can be changed.\n",
    "\n",
    "Run the cell. Then give \"x\" some new values below and run the cell again."
   ]
  },
  {
   "cell_type": "code",
   "execution_count": null,
   "metadata": {
    "scrolled": true
   },
   "outputs": [],
   "source": [
    "x = \"Hello\"\n",
    "print (x)\n",
    "x = \"Goodbye\"\n",
    "print (x)\n",
    "\n",
    "#you can give x new values here, followed by print(x)."
   ]
  },
  {
   "cell_type": "markdown",
   "metadata": {},
   "source": [
    "If you're looping through some data (we'll see how in a second), you'll often want a variable to aggregate with each loop: i.e. to build on the value of the variable, for eg. if you  want a running count of how many times you've run through the loop."
   ]
  },
  {
   "cell_type": "code",
   "execution_count": null,
   "metadata": {},
   "outputs": [],
   "source": [
    "count = 1\n",
    "count = count + 1\n",
    "print (count)\n",
    "\n",
    "#the next statement is a convenient Python shorthand to increment a value by a regular amount.\n",
    "count += 1  #This instruction is equivalent to count = count + 1.\n",
    "print (count)"
   ]
  },
  {
   "cell_type": "markdown",
   "metadata": {},
   "source": [
    "A useful function in Python is *input()*, which asks for a response from a user."
   ]
  },
  {
   "cell_type": "code",
   "execution_count": null,
   "metadata": {},
   "outputs": [],
   "source": [
    "x = input(\"Enter some text here: \")\n",
    "print (x)"
   ]
  },
  {
   "cell_type": "markdown",
   "metadata": {},
   "source": [
    "Now write a short script below. \n",
    "\n",
    "First, assign a value to a variable, and print the variable. Try both numbers and strings.\n",
    "\n",
    "You can print each variable separately. \n",
    "\n",
    "Or you can give the *print()* function multiple arguments, each separated by a comma inside the parentheses: eg. print (x, 5, \"hello\"). It's okay here to mix numbers and strings: you're not trying to add them together. \n",
    "\n",
    "In this case, they'll print in the same line, separated by a space (the default of the print function is to include a line-break after it has printed everything inside its parentheses. But this default can be overridden)."
   ]
  },
  {
   "cell_type": "code",
   "execution_count": null,
   "metadata": {},
   "outputs": [],
   "source": [
    "#write your script here"
   ]
  },
  {
   "cell_type": "markdown",
   "metadata": {},
   "source": [
    "Now use \"input\" to ask the user's name (assigning the input to a variable). Then print an answer that incorporates the name entered."
   ]
  },
  {
   "cell_type": "code",
   "execution_count": null,
   "metadata": {},
   "outputs": [],
   "source": [
    "#write your script here"
   ]
  },
  {
   "cell_type": "markdown",
   "metadata": {},
   "source": [
    "## Manipulating Strings ##"
   ]
  },
  {
   "cell_type": "markdown",
   "metadata": {},
   "source": [
    "Python includes a number of functions and methods for manipulating strings. This is why it's a popular programming language amongst those interested in applying computational techniques to analyzing literary and historical texts. \n",
    "\n",
    "We can look at a few simple examples. You can render everything in uppercase using the function: *upper()*. Note how the method is appended to the variable. This is a characteristic syntax in Python."
   ]
  },
  {
   "cell_type": "code",
   "execution_count": null,
   "metadata": {},
   "outputs": [],
   "source": [
    "x = input(\"Enter some text: \")\n",
    "print(x.upper())"
   ]
  },
  {
   "cell_type": "markdown",
   "metadata": {},
   "source": [
    "The function *len()* gives you the length of an object. \n",
    "\n",
    "If that object is a string, it will give you the number of characters in the string. Note that *len()* will count *all* characters in the string, including punctuation and blank spaces. This is something we'll have to keep in mind when we break the text down for analysis."
   ]
  },
  {
   "cell_type": "code",
   "execution_count": null,
   "metadata": {},
   "outputs": [],
   "source": [
    "x = input(\"Enter some text: \")\n",
    "print (\"Your text includes\", len(x), \"characters.\")\n",
    "\n",
    "# be aware that len() returns a number. \n",
    "# So you can't use \"+\" here to concatenate the items to be printed with other strings.\n",
    "# As you know, the plus sign will only work with identifical data types: numbers, strings, etc..."
   ]
  },
  {
   "cell_type": "markdown",
   "metadata": {},
   "source": [
    "Each character in a string has an index: a number that corresponds to its position in the string. You can retrieve or extract parts of a string using these index values. You use brackets after the string or the variable containing the string to identify parts of the string using its index values.\n",
    "\n",
    "Important: like in many types of computer code, the initial position is 0, not 1. Below, the index value of \"0\" will retrieve the first character in the string \"cat\"."
   ]
  },
  {
   "cell_type": "code",
   "execution_count": null,
   "metadata": {},
   "outputs": [],
   "source": [
    "print (\"The first letter of the word cat is \" + \"cat\"[0])"
   ]
  },
  {
   "cell_type": "markdown",
   "metadata": {},
   "source": [
    "Run the next cell:"
   ]
  },
  {
   "cell_type": "code",
   "execution_count": null,
   "metadata": {},
   "outputs": [],
   "source": [
    "x = input(\"Enter some text: \")\n",
    "print (\"The first character in your answer is:  \" + x[0])\n",
    "print (\"The second character in your answer is:  \" + x[1])"
   ]
  },
  {
   "cell_type": "markdown",
   "metadata": {},
   "source": [
    "Negative values will start counting from the end of the string. An index vlaue of -1 will correspond to the last character."
   ]
  },
  {
   "cell_type": "code",
   "execution_count": null,
   "metadata": {
    "scrolled": true
   },
   "outputs": [],
   "source": [
    "print (\"The last character in your answer is:  \" + x[-1]) "
   ]
  },
  {
   "cell_type": "markdown",
   "metadata": {},
   "source": [
    "Use a colon to express a range of index values. \n",
    "\n",
    "Note that the second term is NOT inclusive. It means everything UP TO but not including this item."
   ]
  },
  {
   "cell_type": "code",
   "execution_count": null,
   "metadata": {},
   "outputs": [],
   "source": [
    "print (\"The first three characters of your answer are:  \" + x[0:3])"
   ]
  },
  {
   "cell_type": "markdown",
   "metadata": {},
   "source": [
    "If you leave out either the first or the second term in the index range (but include the colon), the default will be to either start the range at the beginning (if you leave out the first term) or run to the end (if you leave out the second)."
   ]
  },
  {
   "cell_type": "code",
   "execution_count": null,
   "metadata": {},
   "outputs": [],
   "source": [
    "print (\"All characters from beginning of string up to, but not including, index = 3:  \" + x[:3])\n",
    "print (\"All characters from, and including, index = 3 to the end of the string:  \" + x[3:])\n",
    "# remember that index = 3 means the 4th character."
   ]
  },
  {
   "cell_type": "markdown",
   "metadata": {},
   "source": [
    "When you're using computers to analyze text, an important first step is to clean up the text in order to make it easier to process. \n",
    "\n",
    "This might mean putting everything into lowercase, so that the computer won't consider a capitalized word appearing at the beginning of a sentence as a different word than a lowercase version in the middle of a sentence.\n",
    "\n",
    "It also often means removing all the puncutation from the text, especially if we're analyzing a text's vocabulary: looking at the richness of a text's vocabulary or calculating word frequencies."
   ]
  },
  {
   "cell_type": "markdown",
   "metadata": {},
   "source": [
    "We'll quickly look at a couple of simple techniques.\n",
    "\n",
    "First, putting everything into lowercase is not hard: just use the function *lower()*. It works like *upper()*."
   ]
  },
  {
   "cell_type": "code",
   "execution_count": null,
   "metadata": {},
   "outputs": [],
   "source": [
    "text = \"The murder of Calas, which was perpetrated with the sword of justice at Toulouse on March 9, 1762, is one of the most singular events that deserve the attention of our own and of later ages. We quickly forget the long list of the dead who have perished in our battles. It is the inevitable fate of war; those who die by the sword might themselves have inflicted death on their enemies, and did not die without the means of defending themselves. When the risk and the advantage are equal astonishment ceases, and even pity is enfeebled. But when an innocent father is given into the hands of error, of passion, or of fanaticism; when the accused has no defence but his virtue; when those who dispose of his life run no risk but that of making a mistake; when they can slay with impunity by a legal decree-then the voice of the general public is heard, and each fears for himself. They see that no man's life is safe before a court that has been set up to guard the welfare of citizens, and every voice is raised in a demand of vengeance.\"\n",
    "lower_text = text.lower()\n",
    "print (lower_text)"
   ]
  },
  {
   "cell_type": "markdown",
   "metadata": {},
   "source": [
    "To remove punctuation, we will have to perform a useful operation called *iterating*. To iterate means to run a loop a fixed number of times, and to perform a particular task in each loop.\n",
    "\n",
    "We use a \"for loop\" to do this. In Python, the syntax is:\n",
    "\n",
    "*For x in y*:\n",
    "\n",
    "where y is the thing we want to iterate over, and x is a variable to which we assign each item/value in y, as we iterate over y.\n",
    "\n",
    "If y = \"hello\", then *for x in y* will run 5 times, once for each character in y. In each loop, x will take the value of the character in y corresponding to the loop. In the first loop, x will equal \"h\". In the second loop, x will equal \"e\". And so on.\n",
    "\n",
    "What will x equal in the 4th loop? Run the script below to see.\n",
    "\n",
    "Note the indentation in the line after the \"for\" statement, which is the instruction Python is going to follow in each iteration of the loop. This is required syntax in Python along with the colon in the \"for\" statement."
   ]
  },
  {
   "cell_type": "code",
   "execution_count": null,
   "metadata": {},
   "outputs": [],
   "source": [
    "y = \"hello\"\n",
    "for x in y:\n",
    "    print (\"In this loop, x = \" + x)"
   ]
  },
  {
   "cell_type": "markdown",
   "metadata": {},
   "source": [
    "Now, let's use this technique to replace all punctuation marks in our text from above with an empty string, i.e. with nothing.\n",
    "\n",
    "We'll create a variable which is a collection of all the possible punctuation marks in an English text. We'll run a loop through each of the marks (i.e. through each of the characters) in the string, and tell the computer to replace that character with an empty string \"\" -- i.e. with nothing -- if and when it finds the character in our lower_text variable from above.\n",
    "\n",
    "-- note that in a Jupyter notebook, variables will carry from one cell to another, so long as you run the scripts.\n",
    "\n",
    "\n"
   ]
  },
  {
   "cell_type": "code",
   "execution_count": null,
   "metadata": {},
   "outputs": [],
   "source": [
    "punctuation = \"!@#$%^&*()_-+={}[]:;\\\"\\'|<>,.?/~`\"\n",
    "for mark in punctuation: # cycle through all the punctuation marks. Each time, assign the specific character in the cycle to the variable mark.\n",
    "    lower_text = lower_text.replace(mark, \"\") \n",
    "    \n",
    "    # in each iteration, Python uses the method replace() to replace any instance of the specific mark \n",
    "    # in lower_text with the empty string \"\" (if it doesn't find the mark, it will do nothing to the lower_text string).\n",
    "    # The adjusted string is then reassigned to the variable lower_text, so the changes are constantly being preserved.\n",
    "     \n",
    "print (lower_text)"
   ]
  },
  {
   "cell_type": "markdown",
   "metadata": {},
   "source": [
    "Now we have text that is all lowercase and with no punctuation, which we can analyze. But first, we have to turn this from one long string of characters into a list of words. \n",
    "\n",
    "A *list* is a another kind of Python object, characterized by the fact that it's a collection of distinct items: a set of numbers or a bunch of different strings (or both).\n",
    "\n",
    "You define a list with brackets."
   ]
  },
  {
   "cell_type": "code",
   "execution_count": null,
   "metadata": {},
   "outputs": [],
   "source": [
    "new_list = [3, 6, 8, 80, 23]\n",
    "string_list = [\"apples\", \"oranges\", \"pears\"]\n",
    "print (new_list)\n",
    "print (string_list)"
   ]
  },
  {
   "cell_type": "markdown",
   "metadata": {},
   "source": [
    "To turn our text into a list of words, we use the function *split()*. This function will carve up a string into a bunch of substrings, based on a pattern you define in the parentheses. Python will create a substring up to (but not including) the item you identify, and then create another substring starting right after (and also not including) that item up to the next instance of the item.\n",
    "\n",
    "In this case, we'll specify a blank space. This way, we'll carve up our text into a bunch of substrings defined by the blank spaces that Python encounters: i.e. this will effectively create a series of substrings that correspond to words in the original text."
   ]
  },
  {
   "cell_type": "code",
   "execution_count": null,
   "metadata": {},
   "outputs": [],
   "source": [
    "word_list = lower_text.split(\" \")\n",
    "print (word_list)"
   ]
  },
  {
   "cell_type": "markdown",
   "metadata": {},
   "source": [
    "Now, we can start analyzing. We can get:\n",
    "\n",
    "* the total # of words in our text using *len()*\n",
    "\n",
    "* the longest word in the text using the function *max()*\n",
    "\n",
    "* the shortest word in the text using the function *min()*. (Or more exactly, the *first* shortest word in the string, since there are a couple of candidates for this honor)."
   ]
  },
  {
   "cell_type": "code",
   "execution_count": null,
   "metadata": {
    "scrolled": true
   },
   "outputs": [],
   "source": [
    "\n",
    "print(len(word_list)) #when applied to a list, len() will by default give you the total number of items in it\n",
    "print(max(word_list, key=len))\n",
    "print(min(word_list, key=len))"
   ]
  },
  {
   "cell_type": "markdown",
   "metadata": {},
   "source": [
    "*max()* returns the maximum value in a list. Normally, when applied to a string, it would return the highest alphabetic value. In Python's world, that would be a word starting with a letter from the end of the alphabet (such as a word beggining with \"z\"). But adding a \"key\" allows us to specify a different way to define the maximum value. Here we ask for the *max* or *min* value with respect to the *length* of the string, using key=\"len\".\n",
    "\n",
    "The function *set()* will return the unique values in a list: i.e. eliminating duplicates."
   ]
  },
  {
   "cell_type": "code",
   "execution_count": null,
   "metadata": {},
   "outputs": [],
   "source": [
    "unique_word_list = set(word_list)\n",
    "print (word_list)\n",
    "print (unique_word_list)"
   ]
  },
  {
   "cell_type": "markdown",
   "metadata": {},
   "source": [
    "Note the curly brackets in the output. That's because a set is yet another Python object, distinct from a list. While lists take square brackets, sets (like dictionaries, as we'll see) take curly brackets...\n",
    "\n",
    "A set is also unordered. You'll notice that the values doesn't follow the same order as in the list from which it's derived (there are ways to deal with this).\n",
    "\n",
    "The important thing is we can now analyze the vocabulary of the text.\n",
    "\n",
    "We can find out how many distinct words are used. This helps us assess the richness of the vocabulary."
   ]
  },
  {
   "cell_type": "code",
   "execution_count": null,
   "metadata": {},
   "outputs": [],
   "source": [
    "number_of_words = len(unique_word_list)\n",
    "print (\"There are\", number_of_words, \"unique words in the text.\")"
   ]
  },
  {
   "cell_type": "markdown",
   "metadata": {},
   "source": [
    "With this, we can get the vocabulary density, as it was measured in Voyant. This is the number of unique words divided by the number of total words. Can you provide the code? Write the necessary line at each of the hash-tags. Run the cell. What do you think of the result?"
   ]
  },
  {
   "cell_type": "code",
   "execution_count": null,
   "metadata": {},
   "outputs": [],
   "source": [
    "#assign the number of total words to variable a\n",
    "#assign the number of total unique words to variable b\n",
    "#print b divided by a"
   ]
  },
  {
   "cell_type": "markdown",
   "metadata": {},
   "source": [
    "We can also get the average length of the words used in the text's vocabulary.\n",
    "\n",
    "The average length of words will be the aggregate number of characters in all the distinct words divided by the number of distinct words.\n",
    "\n",
    "We have the number of distinct words (see above). How do we get the number of total characters? We can use a for loop."
   ]
  },
  {
   "cell_type": "code",
   "execution_count": null,
   "metadata": {},
   "outputs": [],
   "source": [
    "# we'll use a running counter here called total_characters, set initially to zero.\n",
    "# then each time we loop, we'll add the length of the current word in the loop to the total of total_characters.\n",
    "\n",
    "total_characters = 0\n",
    "\n",
    "for word in unique_word_list:\n",
    "    total_characters += len(word) #remember this is the same as total_characters = total_characters + len(word)\n",
    "\n",
    "print (total_characters)"
   ]
  },
  {
   "cell_type": "markdown",
   "metadata": {},
   "source": [
    "Now we just divide total characters by the total number of unique words. Can you write the script?"
   ]
  },
  {
   "cell_type": "code",
   "execution_count": null,
   "metadata": {},
   "outputs": [],
   "source": [
    "#enter your code here."
   ]
  },
  {
   "cell_type": "markdown",
   "metadata": {},
   "source": [
    "# Some Exercises\n",
    "\n",
    "Ask for the user to input a string. Assign that string to a variable (as above). But now, make the string all upper case."
   ]
  },
  {
   "cell_type": "code",
   "execution_count": null,
   "metadata": {},
   "outputs": [],
   "source": [
    "user_input = input(\"Enter some text: \")\n",
    "#add the rest of the script here."
   ]
  },
  {
   "cell_type": "markdown",
   "metadata": {},
   "source": [
    "Now make the user_input all lower case."
   ]
  },
  {
   "cell_type": "code",
   "execution_count": null,
   "metadata": {},
   "outputs": [],
   "source": [
    "#your code here."
   ]
  },
  {
   "cell_type": "markdown",
   "metadata": {},
   "source": [
    "Can you remove the punctuation and turn the user's text into a list of words?"
   ]
  },
  {
   "cell_type": "code",
   "execution_count": null,
   "metadata": {},
   "outputs": [],
   "source": [
    "#try that here."
   ]
  },
  {
   "cell_type": "markdown",
   "metadata": {},
   "source": [
    "Now turn that list into a set of unique words."
   ]
  },
  {
   "cell_type": "code",
   "execution_count": null,
   "metadata": {},
   "outputs": [],
   "source": [
    "#script here."
   ]
  },
  {
   "cell_type": "markdown",
   "metadata": {},
   "source": [
    "Can you get the average length of the words in this vocabulary?"
   ]
  },
  {
   "cell_type": "code",
   "execution_count": null,
   "metadata": {},
   "outputs": [],
   "source": [
    "#script here."
   ]
  },
  {
   "cell_type": "markdown",
   "metadata": {},
   "source": [
    "# Some Final Tricks #\n",
    "You can stop here, but if you're curious to see just a little more..."
   ]
  },
  {
   "cell_type": "markdown",
   "metadata": {},
   "source": [
    "We can rearrange the text and place all the words in alphabetical word. This is called sorting."
   ]
  },
  {
   "cell_type": "code",
   "execution_count": null,
   "metadata": {},
   "outputs": [],
   "source": [
    "alphabetic_text = \"\" #we'll define an empty string, which we'll add to in the loop below.\n",
    "\n",
    "alphabetical_set = sorted(unique_word_list) #sorted(), by default, puts a sequence of strings in alphabetical order.\n",
    "                                            #here, we assign this ordered list to the variable alphabetical_set\n",
    "                                         \n",
    "#This gives us a set of items, rather than a single text string. To create the single text string\n",
    "#we'll loop through each item in the set, and add it to alphabetic_text with a space afterwards.\n",
    "for word in alphabetical_set:\n",
    "    alphabetic_text += (word + \" \") \n",
    "\n",
    "print (alphabetic_text)"
   ]
  },
  {
   "cell_type": "markdown",
   "metadata": {},
   "source": [
    "More useful than an alphabetical list of all the words in a literary text, we can create a dictionary of word frequencies. A dictionary is another kind of Python object (like sets, also identified by the use of curly brackets). A dictionary associates a key with a value. Here's an example, with the required syntax. This dictionary associates seasons with fruit. "
   ]
  },
  {
   "cell_type": "code",
   "execution_count": null,
   "metadata": {},
   "outputs": [],
   "source": [
    "seasonal_fruit = {\"spring\": \"strawberries\", \"summer\": \"cherries\", \"fall\": \"apples\", \"winter\": \"oranges\"}\n",
    "print (seasonal_fruit)"
   ]
  },
  {
   "cell_type": "markdown",
   "metadata": {},
   "source": [
    "The first term is the key and the second term is the value associated with the key. You can access the value by using the key, much like you could access items in a list or characters in a string using its index. For example:"
   ]
  },
  {
   "cell_type": "code",
   "execution_count": null,
   "metadata": {},
   "outputs": [],
   "source": [
    "print (seasonal_fruit[\"fall\"])"
   ]
  },
  {
   "cell_type": "markdown",
   "metadata": {},
   "source": [
    "You add to a dictionary simply by giving a new key a particular value:"
   ]
  },
  {
   "cell_type": "code",
   "execution_count": null,
   "metadata": {},
   "outputs": [],
   "source": [
    "seasonal_fruit[\"early_fall\"] = \"pears\"\n",
    "print (seasonal_fruit)"
   ]
  },
  {
   "cell_type": "markdown",
   "metadata": {},
   "source": [
    "Giving the same key multiple values is possible but more complicated. However, for creating a dictionary of word frequencies, we don't need to worry about that, since each word in the dictionary will just have one value: the number of times that word appears in a text. \n",
    "\n",
    "This will do the trick to create our dictionary:"
   ]
  },
  {
   "cell_type": "code",
   "execution_count": null,
   "metadata": {},
   "outputs": [],
   "source": [
    "word_frequencies = {}  #first, we create the dictionary. Note the curly brackets.\n",
    "\n",
    "for word in word_list:  #we go back and iterate over our initial list of total words for this, \n",
    "                        #since we obviously don't want the set of unique words.\n",
    "        \n",
    "    if word in word_frequencies:      #this condition checks to see if the word is already in the dictionary.\n",
    "        word_frequencies[word] += 1   #if it is, the existing value associated with that word is increased by 1.\n",
    "    \n",
    "    else:\n",
    "        word_frequencies[word] = 1    #if not -- i.e. if it's the first time we're seeing the word -- then this\n",
    "                                      #adds the word to the dictionary as a key, and assigns it the value of 1.\n",
    "\n",
    "        \n",
    "print (word_frequencies)\n",
    "\n",
    "#Run this cell, and below you'll see the dictionary, with the words in our word_list as keys, and the number of times\n",
    "#each word appears in our original list as the value of that key."
   ]
  },
  {
   "cell_type": "markdown",
   "metadata": {},
   "source": [
    "Now we can sort the list, using the values in descending order, from most to least frequent. This is a bit trickier. Take a look, then read the explanation below."
   ]
  },
  {
   "cell_type": "code",
   "execution_count": null,
   "metadata": {
    "scrolled": true
   },
   "outputs": [],
   "source": [
    "sorted_word_frequencies = sorted(word_frequencies, key=lambda x: word_frequencies[x], reverse=True)\n",
    "\n",
    "for word in sorted_word_frequencies:\n",
    "    print(word + \": \", word_frequencies[word])"
   ]
  },
  {
   "cell_type": "markdown",
   "metadata": {},
   "source": [
    "Here's an explanation of what's going on, but don't worry if it's not clear.\n",
    "\n",
    "The first line is the same sorting function we saw just above. But now we add a *key*. This isn't the same as the key in a dictionary. In a sorted () function, the key is a rule for how to sort -- just as in the *max()* function, the key was a rule for how to measure the maximum. In the previous example, where we sorted the list alphabetically, we could just use the default sorting principle, which is to sort strings in alphabetical order. That's what we wanted, and we didn't need to provide a key. \n",
    "\n",
    "But here, we want the function to sort based on the values in the dictionary (i.e. the frequencies corresponding to each word). To explain that to the Python processor, we provide a key. And in this case, we use what's called a *lambda* function to specify what that key is. This is a small function that's saying: for any parameter -- represented by \"x\" -- get the value corresponding to that parameter as a key in word_frequencies: word_frequencies[x]. The result returned by the function is what then will be used in the sorting function as the principle for sorting.\n",
    "\n",
    "The last term: reverse=True simply asks for the sorting in descending rather than ascending order.\n",
    "\n",
    "The sorted() function generates a list: in this case, a list of the keys in the dictionary -- that is, the words --, now in order of the values that correspond to the keys (i.e. the frequencies). Note that the values themselves are *not* part of the list. You'll see that by running the next cell. The for loop above then goes through the list of words, prints each one out, then retrieves the dictionary value associated with the word -- it's frequency -- from the original unsorted dictionary."
   ]
  },
  {
   "cell_type": "code",
   "execution_count": null,
   "metadata": {
    "scrolled": true
   },
   "outputs": [],
   "source": [
    "print(sorted_word_frequencies)"
   ]
  },
  {
   "cell_type": "markdown",
   "metadata": {},
   "source": [
    "You'll notice that the most frequent words here are not very interesting looking... Normally, for this type of exercise, you would remove what are called \"stopwords.\" This is a long list of common words -- like \"and\" and \"the\" -- the frequency of which doesn't tell us much about the specific nature of the vocabulary of a text."
   ]
  },
  {
   "cell_type": "code",
   "execution_count": null,
   "metadata": {},
   "outputs": [],
   "source": []
  }
 ],
 "metadata": {
  "kernelspec": {
   "display_name": "Python 3",
   "language": "python",
   "name": "python3"
  },
  "language_info": {
   "codemirror_mode": {
    "name": "ipython",
    "version": 3
   },
   "file_extension": ".py",
   "mimetype": "text/x-python",
   "name": "python",
   "nbconvert_exporter": "python",
   "pygments_lexer": "ipython3",
   "version": "3.7.4"
  }
 },
 "nbformat": 4,
 "nbformat_minor": 2
}
